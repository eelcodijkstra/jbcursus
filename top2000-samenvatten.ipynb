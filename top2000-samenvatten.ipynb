{
 "cells": [
  {
   "cell_type": "markdown",
   "id": "cedfca58-4bab-4170-8935-1a6de4ce5043",
   "metadata": {},
   "source": [
    "# Groeperen en samenvatten"
   ]
  },
  {
   "cell_type": "markdown",
   "id": "f8b737bf-3e59-44b0-8e2b-c1f77c11301b",
   "metadata": {},
   "source": [
    "Het resultaat van selectie en projectie bevat de gegevens van afzonderlijke rijen in de tabel.\n",
    "Maar soms willen je de gegevens van meerdere rijen samenvatten, bijvoorbeeld in een aantal, gemiddelde, minumum of maximum.\n",
    "Deze samenvatting kan betrekking hebben op de hele tabel, maar ook op groepen in deze tabel."
   ]
  },
  {
   "cell_type": "markdown",
   "id": "60d3a7f5-9688-41e6-9705-a649f131b3f6",
   "metadata": {},
   "source": [
    "We behandelen hier de volgende onderdelen van de `SELECT`-opdracht: \n",
    "\n",
    "* samenvattingsfuncties (`count`, `sum`, `avg`, `min`, `max`; \n",
    "* groeperen, met `GROUP BY <kolom(men)>`; \n",
    "* filteren van groepen, met `HAVING <conditie>`."
   ]
  },
  {
   "cell_type": "markdown",
   "id": "2a597a02-499c-4677-8e0a-07284f061728",
   "metadata": {},
   "source": [
    "## Maak verbinding met de database\n",
    "\n",
    "De eerste stap is om verbinding te maken met de database.\n",
    "\n",
    "**Als je Basthon gebruikt.** Laad het notebook tegelijk met de database (door het gebruik van de juiste URL).\n",
    "Je kunt de database ook later laden via het \"File\" menu. \n",
    "Zorg ervoor dat de database gekoppeld is vóór het uitvoeren van de SQL-opdrachten.\n",
    "\n",
    "**Als je Jupyter Notebook gebruikt.** In dat geval heb je onderstaande opdracht nodig."
   ]
  },
  {
   "cell_type": "code",
   "execution_count": null,
   "id": "30ed95eb-4ef2-445d-afd8-639dd108880c",
   "metadata": {},
   "outputs": [],
   "source": [
    "%LOAD data/top2000.db"
   ]
  },
  {
   "cell_type": "markdown",
   "id": "6c1cc317-0ba2-4b9b-8b05-1cae3cd30594",
   "metadata": {},
   "source": [
    "## Samenvatten"
   ]
  },
  {
   "cell_type": "markdown",
   "id": "2cad7615-6053-4c64-a520-8c40c685fc4d",
   "metadata": {},
   "source": [
    "De eenvoudigste samenvatting van reeks rijen is het *aantal*.\n",
    "In dit geval bestaat de resultaat-kolom uit de functie `voor het tellen van de rijen in de tabel die aan de `WHERE`-voorwaarde voldoen."
   ]
  },
  {
   "cell_type": "code",
   "execution_count": null,
   "id": "c4685017-636f-433c-a656-475103b43881",
   "metadata": {},
   "outputs": [],
   "source": [
    "SELECT count(titel)\n",
    "FROM top2000;"
   ]
  },
  {
   "cell_type": "code",
   "execution_count": null,
   "id": "b5774586-7f40-47b0-8cc9-692855fed483",
   "metadata": {},
   "outputs": [],
   "source": [
    "SELECT count(titel)\n",
    "FROM top2000\n",
    "WHERE top = 2018;"
   ]
  },
  {
   "cell_type": "markdown",
   "id": "d2a7b043-376b-4404-9f50-40690e399446",
   "metadata": {},
   "source": [
    "**Opmerking** In dit geval tellen we het aantal malen dat een rij voorkomt met een *niet-leeg* `titel` veld.\n",
    "In principe kun je hiervoor elk veld gebruiken dat in elke rij een waarde heeft.\n",
    "Je kunt ook `count(*)` gebruiken: dan weet je zeker dat je alle rijen telt."
   ]
  },
  {
   "cell_type": "markdown",
   "id": "15ece3d9-cc45-47fd-ab60-dfa99e0baa08",
   "metadata": {},
   "source": [
    "### Samenvattingsfuncties\n",
    "\n",
    "SQL heeft de volgende functies voor het samenvatten van rijen: `COUNT` (aantal); `SUM` (som); `MIN` (minimum); `MAX` (maximum); `AVG` (gemiddelde)."
   ]
  },
  {
   "cell_type": "markdown",
   "id": "27643f0d-23ba-471c-8e75-d86c8081c440",
   "metadata": {},
   "source": [
    "Wat is het vroegste publicatie-jaar van een nummer in de top2000?"
   ]
  },
  {
   "cell_type": "code",
   "execution_count": null,
   "id": "f024a1fc-830f-499f-86da-c8dac3cc877c",
   "metadata": {},
   "outputs": [],
   "source": [
    "SELECT min(jaar)\n",
    "FROM top2000;"
   ]
  },
  {
   "cell_type": "markdown",
   "id": "8d139717-3635-468a-9c9d-80fe4f3b2921",
   "metadata": {},
   "source": [
    "Wat is het vroegste publicatie-jaar van een nummer van `Queen` in de top2000?"
   ]
  },
  {
   "cell_type": "code",
   "execution_count": null,
   "id": "e3bf85e3-0fa7-4e55-8a03-b6a6e88f59f9",
   "metadata": {},
   "outputs": [],
   "source": [
    "SELECT min(jaar)\n",
    "FROM top2000\n",
    "WHERE artiest = \"Queen\";"
   ]
  },
  {
   "cell_type": "markdown",
   "id": "5e253f6d-8530-4c3a-80e2-a8ee3f0c9b64",
   "metadata": {},
   "source": [
    "(variaties op bovenstaande? nog een ander voorbeeld?)"
   ]
  },
  {
   "cell_type": "code",
   "execution_count": null,
   "id": "506401fd-2ca3-4f78-97ec-9092557f53bd",
   "metadata": {},
   "outputs": [],
   "source": []
  },
  {
   "cell_type": "markdown",
   "id": "053fa5b3-d30d-4216-aee0-6eaa0361617f",
   "metadata": {},
   "source": [
    "## Groeperen"
   ]
  },
  {
   "cell_type": "markdown",
   "id": "13cb753c-404d-47f5-b88f-56ebac6d71b9",
   "metadata": {},
   "source": [
    "Zoals gezegd wil je niet altijd de hele tabel in één waarde samenvatten, maar verschillende groepen in de tabel. Bijvoorbeeld: wat is het vroegste publicatie jaar *per top2000*?\n",
    "\n",
    "> Opmerking: als je in de vraag de formulering *per X* tegenkomt, dan is er meestal sprake van groepering.\n",
    "Je wilt in het antwoord dan niet alleen de samenvatting, maar ook `X` als kolom."
   ]
  },
  {
   "cell_type": "code",
   "execution_count": null,
   "id": "db7d7c3e-7e4f-48ee-8cb2-9d5667e942ef",
   "metadata": {},
   "outputs": [],
   "source": [
    "SELECT top, min(jaar), titel\n",
    "FROM top2000\n",
    "GROUP BY top;"
   ]
  },
  {
   "cell_type": "markdown",
   "id": "e6a68a17-40df-4383-985a-2854adeb9dbe",
   "metadata": {},
   "source": [
    "Wat is de laagste notering van `Queen` per top, en met welk nummer?"
   ]
  },
  {
   "cell_type": "code",
   "execution_count": null,
   "id": "e459ae01-0662-4731-935d-80c0e32f015c",
   "metadata": {},
   "outputs": [],
   "source": [
    "SELECT top, max(positie), titel\n",
    "FROM top2000\n",
    "WHERE artiest = \"Queen\"\n",
    "GROUP BY top;"
   ]
  },
  {
   "cell_type": "markdown",
   "id": "67ef85a4-d182-4134-b7dd-17d895c43c9b",
   "metadata": {},
   "source": [
    "**Opmerking.** Alleen in het geval van `min` en `max` heeft het zin om andere velden in het resultaat op te nemen. (Ga na waarom.)\n",
    "\n",
    "**Uitzoeken...** in principe kunnen we meerdere rijen zijn met de minimum of maximum waarde. Welke wordt dan gekozen als je  de andere kolommen wilt weergeven?"
   ]
  },
  {
   "cell_type": "markdown",
   "id": "c8f604a2-4163-4d28-856a-35d7dce2e505",
   "metadata": {},
   "source": [
    "Wat is het aantal top-noteringen per nummer van Queen?"
   ]
  },
  {
   "cell_type": "code",
   "execution_count": null,
   "id": "f92c0103-7cf9-4855-8e13-c5c8d866dbc3",
   "metadata": {},
   "outputs": [],
   "source": [
    "SELECT titel, count(titel)\n",
    "FROM top2000\n",
    "WHERE artiest = \"Queen\"\n",
    "GROUP BY titel;"
   ]
  },
  {
   "cell_type": "markdown",
   "id": "89d3d11a-8b74-4a07-888a-2c7e2bafbf7d",
   "metadata": {},
   "source": [
    "## Filteren van de groepering"
   ]
  },
  {
   "cell_type": "markdown",
   "id": "d16a1a4c-848d-4d8f-ae96-f738d90403f8",
   "metadata": {},
   "source": [
    "Je kunt de *resultaten van een groepering filteren met een conditie* met behulp van `HAVING`.\n",
    "Alleen die groepen die aan de conditie voldoen blijven over.\n",
    "\n",
    "Bijvoorbeeld: wat zijn de nummers van Queen met meer dan 3 topnoteringen per nummer (titel)?"
   ]
  },
  {
   "cell_type": "code",
   "execution_count": null,
   "id": "e4076343-3d74-4704-807a-ff99c534cb68",
   "metadata": {},
   "outputs": [],
   "source": [
    "SELECT titel, count(titel)\n",
    "FROM top2000\n",
    "WHERE artiest = 'Queen'\n",
    "GROUP BY titel\n",
    "HAVING count(titel) > 3;"
   ]
  },
  {
   "cell_type": "markdown",
   "id": "75185a2b-e5c2-48be-80d2-edee20f57b2a",
   "metadata": {},
   "source": [
    "(variatie op de bovenstaande? - minder dan 3; )"
   ]
  },
  {
   "cell_type": "markdown",
   "id": "9bfd32a1-d133-4e85-b8d6-91577aafbf0b",
   "metadata": {},
   "source": [
    "(nog een opdracht met `HAVING`)"
   ]
  },
  {
   "cell_type": "markdown",
   "id": "8c52b9ba-8789-4dd2-ac41-22fe2dc88658",
   "metadata": {},
   "source": [
    "**Opmerking** De conditie van `HAVING` formuleer je met de kolommen van het resultaat van de samenvatting, dus de kolommen die *achter de `SELECT` staan* - niet met de kolommen van de oorspronkelijke tabel(len) achter `FROM`."
   ]
  },
  {
   "cell_type": "markdown",
   "id": "9c8a3a6d-f2fe-445d-a5c0-d653cabd322d",
   "metadata": {},
   "source": [
    "### Gesorteerd resultaat\n",
    "\n",
    "Je kunt de groepen in het resultaat sorteren, met `ORDER BY`. \n",
    "Dit `ORDER BY`-deel komt na de groepering (`GROUP BY`): het heeft immers betrekking op het resultaat van de groepering."
   ]
  },
  {
   "cell_type": "code",
   "execution_count": null,
   "id": "d901d503-d4fb-408e-9f61-b0929ea0df97",
   "metadata": {},
   "outputs": [],
   "source": [
    "SELECT titel, count(titel)\n",
    "FROM top2000\n",
    "WHERE artiest = 'Queen'\n",
    "GROUP BY titel\n",
    "HAVING count(titel) < 3\n",
    "ORDER BY count(titel);"
   ]
  },
  {
   "cell_type": "markdown",
   "id": "2be02a35-55f5-4ed7-bd9c-c981a27a5503",
   "metadata": {},
   "source": [
    "## Groeperen en samenvatten - voorbeelden"
   ]
  },
  {
   "cell_type": "code",
   "execution_count": null,
   "id": "4d725e42-59fe-4b89-b88f-35295291484c",
   "metadata": {},
   "outputs": [],
   "source": [
    "SELECT titel, artiest, jaar, count(titel) aantal\n",
    "FROM top2000\n",
    "WHERE jaar < 1957\n",
    "GROUP BY titel\n",
    "ORDER BY aantal DESC;"
   ]
  },
  {
   "cell_type": "markdown",
   "id": "792d7900-5ddc-4be3-b1e7-7bdd5be223ad",
   "metadata": {},
   "source": [
    "(Als je het meest populaire nummer wilt bepalen, kun je deze tabel beperken tot 1. Daar heb je geen \"max\" functie voor nodig.)"
   ]
  },
  {
   "cell_type": "markdown",
   "id": "325b58a1-6bc6-448c-83df-ce193d0bd032",
   "metadata": {},
   "source": [
    "Andere functies voor het samenvatten van waarden zijn: `sum`, `avg`, `min`, `max`, `prod`."
   ]
  },
  {
   "cell_type": "markdown",
   "id": "3e931752-08a3-47f0-9284-03f49b4ff5ef",
   "metadata": {},
   "source": [
    "Wat is het oudste nummer in de top2000?\n",
    "(Hiervoor is het voldoende om de nummers op jaar te ordenen, en de eerste te nemen - `LIMIT 1`.)"
   ]
  },
  {
   "cell_type": "code",
   "execution_count": null,
   "id": "a2111c23-1485-40d1-907c-433c124b5813",
   "metadata": {},
   "outputs": [],
   "source": [
    "SELECT titel, artiest, jaar\n",
    "FROM top2000\n",
    "ORDER BY jaar ASC\n",
    "LIMIT 5;"
   ]
  },
  {
   "cell_type": "markdown",
   "id": "e4aa18c1-f9da-4bde-96e9-77f267c20619",
   "metadata": {},
   "source": [
    "Hoe vaak komt dit oudste nummer in de top2000 voor?\n",
    "\n",
    "(Kunnen we dit nog op een andere manier formuleren, zonder de gegevens van het vorige resultaat in te vullen?)"
   ]
  },
  {
   "cell_type": "code",
   "execution_count": null,
   "id": "51ef23fe-ac47-4419-bf36-c098221fce40",
   "metadata": {},
   "outputs": [],
   "source": [
    "SELECT *\n",
    "FROM top2000\n",
    "WHERE titel = \"We'll Meet Again\";"
   ]
  }
 ],
 "metadata": {
  "kernelspec": {
   "display_name": "xsqlite",
   "language": "sqlite",
   "name": "xsqlite"
  },
  "language_info": {
   "codemirror_mode": "sql",
   "file_extension": "",
   "mimetype": "",
   "name": "sql",
   "version": "3.33.0"
  }
 },
 "nbformat": 4,
 "nbformat_minor": 5
}
