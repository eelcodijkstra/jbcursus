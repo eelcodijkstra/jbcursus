{
 "cells": [
  {
   "cell_type": "markdown",
   "id": "a4ed9294-f62d-4d6a-8ba7-49e5fe8c54f1",
   "metadata": {},
   "source": [
    "(sphinx-assessment)=\n",
    "# sphinx-assessment"
   ]
  },
  {
   "cell_type": "markdown",
   "id": "cf01a03b-32b6-496a-9673-be648dd8d3eb",
   "metadata": {},
   "source": [
    "Met de extensie *sphinx-assessment* kun je allerlei toetsvragen formuleren: multiple choice, Parsons, drag-and-drop, fill-in-the-blank. Deze zijn in het bijzonder geschikt voor *formatief toetsen*.\n",
    "\n",
    "> Deze extensie is speciaal gemaakt voor het i&i keuzethema-materiaal in Jupyter Books. Deze extensie is nog in ontwikkeling, sommige details kunnen nog veranderen."
   ]
  },
  {
   "cell_type": "markdown",
   "id": "11936c27-f8a4-466a-98cc-4484c6a51243",
   "metadata": {},
   "source": [
    "## Multiple choice"
   ]
  },
  {
   "cell_type": "markdown",
   "id": "3a7889a3-621e-45bd-88c8-5a53a59f4db7",
   "metadata": {},
   "source": [
    "* In de (verplichte) `correct`-optie geef je de letter van het juiste antwoord.\n",
    "* De vraag moet eindigen met een (markdown) lijst met alternatieve antwoorden.\n",
    "* Per alternatief kan feedback gegeven worden, in de vorm van een sub-lijst met 1 element. Deze feedback wordt getoond bij het controleren van het antwoord.\n",
    "* Er moeten tenminste 2 alternatieven zijn; het maximum is 26?"
   ]
  },
  {
   "cell_type": "markdown",
   "id": "9337a635-66fd-4742-ac5a-d7ee7cfcf1bc",
   "metadata": {},
   "source": [
    "```\n",
    ":::{mchoice} titel van de vraag\n",
    ":correct: c\n",
    "\n",
    "Formulering van de vraag, met evt. figuren, code blokken, e.d.\n",
    "\n",
    "* antwoord a\n",
    "    * feedback bij a\n",
    "* antwoord b\n",
    "    * feedback bij b\n",
    "* antwoord c\n",
    "    * feedback bij c\n",
    "* antwoord d\n",
    "    * feedback bij d\n",
    ":::\n",
    "```"
   ]
  },
  {
   "cell_type": "markdown",
   "id": "e082a573-b2dd-4b51-8ea8-d4d231e56e2b",
   "metadata": {},
   "source": [
    ":::{mchoice} titel van de vraag\n",
    ":correct: c\n",
    "\n",
    "Formulering van de vraag, met evt. figuren, code blokken, e.d.\n",
    "\n",
    "* antwoord a\n",
    "    * feedback bij a\n",
    "* antwoord b\n",
    "    * feedback bij b\n",
    "* antwoord c\n",
    "    * feedback bij c\n",
    "* antwoord d\n",
    "    * feedback bij d\n",
    ":::"
   ]
  },
  {
   "cell_type": "markdown",
   "id": "cfabd8a9-0518-4781-acc5-92de49227b69",
   "metadata": {},
   "source": [
    "### Meerdere juiste antwoorden\n",
    "\n",
    "Als je bij de `:correct:`-optie meerdere antwoorden geeft, krijg je een multiple-chouce vraag waarbij meerdere antwoorden juist moeten zijn.\n",
    "\n",
    "```\n",
    ":::{mchoice} h4-mc-4\n",
    ":correct: a,b,c\n",
    "\n",
    "Voor welk soort gebruik is JSON handig?\n",
    "  \n",
    "* opslaan van JavaScript (cq. Python enz.) objecten in een database\n",
    "* communiceren van JavaScript objecten\n",
    "* afdrukken van JavaScript objecten\n",
    "* opslaan van JavaScript objecten in een JavaScript array\n",
    "* bewerken van JavaScrip objecten\n",
    "```"
   ]
  },
  {
   "cell_type": "markdown",
   "id": "a225e7a8-2162-49a2-bb2e-ef3828905b8c",
   "metadata": {},
   "source": [
    ":::{mchoice} h4-mc-4\n",
    ":correct: a,b,c\n",
    "\n",
    "Voor welk soort gebruik is JSON handig?\n",
    "  \n",
    "* opslaan van JavaScript (cq. Python enz.) objecten in een database\n",
    "* communiceren van JavaScript objecten\n",
    "* afdrukken van JavaScript objecten\n",
    "* opslaan van JavaScript objecten in een JavaScript array\n",
    "* bewerken van JavaScrip objecten"
   ]
  },
  {
   "cell_type": "markdown",
   "id": "b2f19684-4415-4450-9ae2-1d2f14404080",
   "metadata": {},
   "source": [
    "## Drag-n-drop"
   ]
  },
  {
   "cell_type": "markdown",
   "id": "f14f9203-0051-4b8c-85f4-396ab8ea2e3a",
   "metadata": {},
   "source": [
    "Bij een drag-and-drop vraag moeten *items* bij het juiste *target* geplaatst worden. Dit kun je bijvoorbeeld gebruiken om begrippen te koppelen aan hun omschrijving. Door het gebruik van een figuur kun je dit bijvoorbeeld ook gebruiken om onderdelen van een figuur te benoemen.\n",
    "\n",
    "* de lijst met items bij een target kan leeg zijn.\n",
    "* het speciale target `no-target` bevat items die niet bij een target geplaatst kunnen worden."
   ]
  },
  {
   "cell_type": "markdown",
   "id": "3b1bfe25-a8fb-4270-93b4-aa4ddd32fea4",
   "metadata": {},
   "source": [
    "```\n",
    ":::{dragndrop} titel van de vraag\n",
    "\n",
    "Formulering van de vraag, met eventueel figuren e.d.\n",
    "\n",
    "* target a\n",
    "    * item 1 voor target a\n",
    "    * item 2 voor target a\n",
    "* target b\n",
    "    * item 1 voor target b\n",
    "* target c (hier zonder items)\n",
    "* no-target\n",
    "    * item zonder target\n",
    ":::\n",
    "```"
   ]
  },
  {
   "cell_type": "markdown",
   "id": "28a14e6c-213d-4d6c-b29d-e9c752aaa133",
   "metadata": {},
   "source": [
    ":::{dragndrop} titel van de vraag\n",
    "\n",
    "Formulering van de vraag, met eventueel figuren e.d.\n",
    "\n",
    "* target a\n",
    "    * item 1 voor target a\n",
    "    * item 2 voor target a\n",
    "* target b\n",
    "    * item 1 voor target b\n",
    "* target c (hier zonder items)\n",
    "* no-target\n",
    "    * item zonder target\n",
    ":::"
   ]
  },
  {
   "cell_type": "markdown",
   "id": "0263c74b-e0a5-442a-b9aa-a021299326d7",
   "metadata": {},
   "source": [
    "## Fill in the blank"
   ]
  },
  {
   "cell_type": "markdown",
   "id": "e1e3ff2a-3062-4fb3-8e1c-0f8ebb1a308e",
   "metadata": {},
   "source": [
    "Bij een *fill in the blank* vraag zijn er gaten in de tekst die op de juiste manier ingevuld moeten worden.\n",
    "\n",
    "Omdat er soms wat variaties op een antwoord mogelijk zijn, zijn er speciale patronen voor het controleren van een antwoord:\n",
    "\n",
    "* `blank` - het antwoord moet letterlijk gelijk zijn aan de voorbeeldtekst;\n",
    "* `blank-range` - de range (`lo..hi`) geeft aan tussen welke grenzen het antwoord-getal moet liggen;\n",
    "* `blank-regexp` - het antwoord moet voldoen aan de reguliere expressie in het voorbeeld-antwoord."
   ]
  },
  {
   "cell_type": "markdown",
   "id": "d530ad03-dca4-47c5-a063-68c7626df0c5",
   "metadata": {},
   "source": [
    "```\n",
    ":::{fillintheblank} titel van de vraag\n",
    "\n",
    "Tekst waarin gaten aangegeven kunnen worden door {blank}`voorbeeld`, \n",
    "door {blank-range}`10..11`, \n",
    "of door {blank-regexp}`[Hh]ello`.\n",
    "Vul bijvoorbeeld in: `voorbeeld`, \n",
    "`10` of `10.9`, \n",
    "`hello` of `Hello`.\n",
    "* feedback list?\n",
    ":::\n",
    "```"
   ]
  },
  {
   "cell_type": "markdown",
   "id": "f7afa149-dd7c-4390-a62c-b4c4a229152d",
   "metadata": {},
   "source": [
    ":::{fillintheblank} titel van de vraag\n",
    "\n",
    "Tekst waarin gaten aangegeven kunnen worden door {blank}`voorbeeld`, \n",
    "door {blank-range}`10..11`, \n",
    "of door {blank-regexp}`[Hh]ello`.\n",
    "Vul bijvoorbeeld in: `voorbeeld`, \n",
    "`10` of `10.9`, \n",
    "`hello` of `Hello`.\n",
    "\n",
    "* feedback list?\n",
    ":::"
   ]
  },
  {
   "cell_type": "markdown",
   "id": "d3e4c73f-f5d0-47fd-bf28-b75c8b652a56",
   "metadata": {},
   "source": [
    "## Parsons problems"
   ]
  },
  {
   "cell_type": "markdown",
   "id": "1fb57d15-b106-40f8-81cf-3e33c6403a7f",
   "metadata": {},
   "source": [
    "In een *Parsons problem* moeten regels programmatekst in de juiste volgorde en met de juiste indentatie geplaatst worden.\n",
    "\n",
    "De programmatekst in de opdracht beschrijf je als een code-block; deze wordt omgezet in een random reeks losse regels. Elk niveau van indendatie moet bestaan uit 4 spaties."
   ]
  },
  {
   "cell_type": "markdown",
   "id": "5472dee0-451b-4dc5-8d4b-1e3b45a75358",
   "metadata": {},
   "source": [
    "Het voorbeeld:\n",
    "\n",
    "````\n",
    ":::{parsons} titel van de vraag\n",
    "\n",
    "Plaats de regels in de goede volgorde en met het juiste niveau van inspringen, \n",
    "zodat het programma de getallen 0..9 afdrukt.\n",
    "\n",
    "```\n",
    "i = 0\n",
    "while i < 10:\n",
    "    print(i)\n",
    "    i = i + 1\n",
    "```\n",
    ":::\n",
    "````"
   ]
  },
  {
   "cell_type": "markdown",
   "id": "b20135be-71e7-41a4-b406-8be9d8c3222a",
   "metadata": {},
   "source": [
    "heeft als resultaat:"
   ]
  },
  {
   "cell_type": "markdown",
   "id": "a091f289-a5c1-441a-a250-9dedaaf1cb4f",
   "metadata": {},
   "source": [
    ":::{parsons} titel van de vraag\n",
    "\n",
    "Plaats de regels in de goede volgorde en met het juiste niveau van inspringen, zodat het programma de getallen 0..9 afdrukt.\n",
    "\n",
    "```\n",
    "i = 0\n",
    "while i < 10:\n",
    "    print(i)\n",
    "    i = i + 1\n",
    "```\n",
    ":::"
   ]
  },
  {
   "cell_type": "markdown",
   "id": "a56f56e9-254f-410a-b120-84b018fec8ed",
   "metadata": {},
   "source": [
    "## Short answer\n",
    "\n",
    "Voorbeeld:\n",
    "\n",
    "```\n",
    ":::{shortanswer} WiFi-monitor\n",
    "\n",
    "Een IoT-knoop verstuurt elke minuut het aantal WiFi-gebruikers \n",
    "in de directe omgeving (max. 255).\n",
    "\n",
    "* wat is de  bitrate?\n",
    "* is dit een privacy-risico?\n",
    ":::\n",
    "```"
   ]
  },
  {
   "cell_type": "markdown",
   "id": "69eb5633-92bf-4879-b331-7e1d758e47e0",
   "metadata": {},
   "source": [
    ":::{shortanswer} WiFi-monitor\n",
    "\n",
    "Een IoT-knoop verstuurt elke minuut het aantal WiFi-gebruikers \n",
    "in de directe omgeving (max. 255).\n",
    "\n",
    "* wat is de  bitrate?\n",
    "* is dit een privacy-risico?\n",
    ":::"
   ]
  }
 ],
 "metadata": {
  "kernelspec": {
   "display_name": "Python 3 (ipykernel)",
   "language": "python",
   "name": "python3"
  },
  "language_info": {
   "codemirror_mode": {
    "name": "ipython",
    "version": 3
   },
   "file_extension": ".py",
   "mimetype": "text/x-python",
   "name": "python",
   "nbconvert_exporter": "python",
   "pygments_lexer": "ipython3",
   "version": "3.10.11"
  }
 },
 "nbformat": 4,
 "nbformat_minor": 5
}
