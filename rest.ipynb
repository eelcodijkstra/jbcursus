{
 "cells": [
  {
   "cell_type": "markdown",
   "id": "dc1cbf74-4644-4908-8780-de45d905c8e3",
   "metadata": {},
   "source": [
    "# Rest"
   ]
  },
  {
   "cell_type": "markdown",
   "id": "ebb4a601-396c-425a-9e37-41287f663086",
   "metadata": {},
   "source": [
    "* basthon in het franse onderwijs\n",
    "* basthon voorbeelden - andere talen enz."
   ]
  },
  {
   "cell_type": "markdown",
   "id": "cd1e99b1-780c-421d-ac1e-a0e7d67bf6f0",
   "metadata": {},
   "source": [
    "## Huiswerk\n",
    "\n",
    "* ideeën voor notebooks, \n",
    "* maak zelf een (Basthon) notebook over een onderwerp - met bijv. SQL, Python, P5JS\n"
   ]
  },
  {
   "cell_type": "markdown",
   "id": "71d079b7-f29e-4a06-9e5f-5abd857a8529",
   "metadata": {},
   "source": [
    "## Volgende bijeenkomst\n",
    "\n",
    "* gebruik van Git, GitHub: account aanvragen!\n",
    "* zelf aan de slag met JB, organiseren, selecteren van delen\n",
    "* publiceren van Notebooks; publiceren van JB materiaal\n"
   ]
  },
  {
   "cell_type": "markdown",
   "id": "21f9d78e-4a38-4c05-86aa-d6a18b82cd00",
   "metadata": {},
   "source": [
    "## Suggesties\n",
    "\n",
    "* gebruik van notebooks door leerlingen voor het maken van een verslag (zie het voorbeeld van de vrije val) - van een experiment e.d.\n",
    "* "
   ]
  }
 ],
 "metadata": {
  "kernelspec": {
   "display_name": "Python 3 (ipykernel)",
   "language": "python",
   "name": "python3"
  },
  "language_info": {
   "codemirror_mode": {
    "name": "ipython",
    "version": 3
   },
   "file_extension": ".py",
   "mimetype": "text/x-python",
   "name": "python",
   "nbconvert_exporter": "python",
   "pygments_lexer": "ipython3",
   "version": "3.10.11"
  }
 },
 "nbformat": 4,
 "nbformat_minor": 5
}
