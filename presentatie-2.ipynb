{
 "cells": [
  {
   "cell_type": "markdown",
   "id": "dadd4095-8db6-4466-b7f4-d7c742b79b04",
   "metadata": {
    "slideshow": {
     "slide_type": "slide"
    },
    "tags": []
   },
   "source": [
    "# Presentatie 2"
   ]
  },
  {
   "cell_type": "markdown",
   "id": "4755c06d-bc61-46c9-aad2-afe59e5301d7",
   "metadata": {
    "slideshow": {
     "slide_type": "skip"
    },
    "tags": []
   },
   "source": [
    "* Andere user interfaces\n",
    "    * jupyter lab (zie jupyter lite)\n",
    "    * jupyter book\n",
    "* Jupyter Book \n",
    "    * \"executable books\"\n",
    "        * code cellen uitvoerbaar, maar tekst niet te veranderen.\n",
    "        * gebruik van Binder, \n",
    "    * verzameling notebooks, markdown documenten\n",
    "    * structuur\n",
    "    * navigatie, zoeken\n",
    "    * extensions\n",
    "    * website; PDF\n",
    "* MyST: Markdown met extensies\n",
    "    * admonitions\n",
    "    * cards; tabs; grid\n",
    "    * Sphinx extensions\n",
    "* Extensie: exercises\n",
    "    * opdrachten\n",
    "    * uitwerkingen\n",
    "* Extensie: assessment (toetsvragen)\n",
    "    * multiple choice\n",
    "    * drag & drop\n",
    "    * Parsons problems\n",
    "* Voorbeelden keuzethema's\n",
    "    * \n",
    "    * Netwerken; Physical computing (microbit-Python)\n",
    "* Huiswerk: oefenen met Jupyter Lab (lite)\n",
    "    * voor volgende keer"
   ]
  },
  {
   "cell_type": "markdown",
   "id": "02f3a5e2-7a10-499a-ba59-bcf389fe769b",
   "metadata": {
    "slideshow": {
     "slide_type": "slide"
    },
    "tags": []
   },
   "source": [
    "## Andere user interfaces\n",
    "\n",
    "* Jupyter Lab\n",
    "* Jupyter Book"
   ]
  },
  {
   "cell_type": "markdown",
   "id": "4b8a6e54-d7ed-4dc9-91c8-a5ed3066a2a6",
   "metadata": {
    "slideshow": {
     "slide_type": "slide"
    },
    "tags": []
   },
   "source": [
    "## Jupyter Lab\n",
    "\n",
    "* meerdere notebooks (tabs)\n",
    "* andere documenten (markdown, enz.)\n",
    "* \"shell\" venster\n",
    "* integratie met GitHub enz.\n",
    "* voorbeeld: Jupyter Lite\n",
    "    * https://jupyter.org/try-jupyter/lab/?path=notebooks%2FIntro.ipynb"
   ]
  },
  {
   "cell_type": "markdown",
   "id": "82bc1d74-27b1-4b42-8f36-6c54be361952",
   "metadata": {
    "slideshow": {
     "slide_type": "slide"
    },
    "tags": []
   },
   "source": [
    "## Jupyter Book\n",
    "\n",
    "* verzameling notebooks, markdown documenten\n",
    "    * structuur\n",
    "    * navigatie, zoeken\n",
    "* \"executable books\"\n",
    "    * code cellen uitvoerbaar & aanpasbaar \n",
    "    * gebruik van Binder (voor kernels)\n",
    "    * (rijke) tekst ligt vast\n",
    "* extensions (Sphinx)\n",
    "* (statische) website; PDF"
   ]
  },
  {
   "cell_type": "markdown",
   "id": "4ec5d9c1-79ee-48bc-84a1-4329285a43ad",
   "metadata": {
    "slideshow": {
     "slide_type": "slide"
    },
    "tags": []
   },
   "source": [
    "## Jupyter book - voorbeelden\n",
    "\n",
    "* https://executablebooks.org/en/latest/gallery/\n",
    "* https://mystmd.org/overview/gallery\n",
    "* https://eelcodijkstra.github.io/pcbook/intro.html\n",
    "    * physical computing - microbit - Python\n",
    "* https://eelcodijkstra.github.io/netbook0/intro.html\n",
    "    * netwerken - IoT"
   ]
  },
  {
   "cell_type": "markdown",
   "id": "ce2327c4-99c2-4b2a-b07c-dfe26cb1e7b7",
   "metadata": {
    "slideshow": {
     "slide_type": "slide"
    },
    "tags": []
   },
   "source": [
    "## MyST Markdown\n",
    "\n",
    "* extra opmaak-mogelijkheden, o.a.\n",
    "    * admonitions\n",
    "    * grids, cards\n",
    "    * dropdown\n",
    "* extensies (Sphinx)\n",
    "* zie o.a.: https://mystmd.org/guide"
   ]
  },
  {
   "cell_type": "markdown",
   "id": "48f2bb8d-cd66-4bcb-b50c-c2e7703575c8",
   "metadata": {
    "slideshow": {
     "slide_type": "slide"
    },
    "tags": []
   },
   "source": [
    "## Extensie: Sphinx-exercise\n",
    "\n",
    "zie: https://ebp-sphinx-exercise.readthedocs.io/en/latest/syntax.html\n",
    "\n",
    "* opdrachten\n",
    "* uitwerkingen\n",
    "* te combineren met bijv. dropdown"
   ]
  },
  {
   "cell_type": "markdown",
   "id": "dd34bb0a-5e1b-4132-92c0-5c1095017078",
   "metadata": {
    "slideshow": {
     "slide_type": "slide"
    },
    "tags": []
   },
   "source": [
    "## Extensie: Sphinx-assessment\n",
    "\n",
    "* (in ontwikkeling, voor INF keuzethema's)\n",
    "* multiple choice, drag-and-drop, Parsons, enz.\n",
    "* toetsvragen (formative assessment)"
   ]
  },
  {
   "cell_type": "markdown",
   "id": "27141ef3-6491-4c2d-b391-9bfa9a88b9c9",
   "metadata": {
    "slideshow": {
     "slide_type": "slide"
    },
    "tags": []
   },
   "source": [
    "## MystJS\n",
    "\n",
    "* alternatief voor MyST-Sphinx\n",
    "    * compatibel met Jupyter Book\n",
    "* voor website, online documenten, PDF enz.\n",
    "* \"GitBook ++\"\n",
    "* zie bijv. ook: https://curvenote.com/\n"
   ]
  },
  {
   "cell_type": "markdown",
   "id": "9b679c17-530c-42bc-8ca9-3c192622d7fc",
   "metadata": {
    "slideshow": {
     "slide_type": "slide"
    },
    "tags": []
   },
   "source": [
    "## Huiswerk\n",
    "\n",
    "* maak jezelf vertrouwd met het Jupyter Lab interface,\n",
    "    * via Jupyter Lite\n",
    "    * of via Jupyter Lab desktop\n",
    "* bestudeer enkele Jupyter Book voorbeelden\n",
    "    * INF keuzethema's\n",
    "    * andere"
   ]
  }
 ],
 "metadata": {
  "kernelspec": {
   "display_name": "Python 3 (ipykernel)",
   "language": "python",
   "name": "python3"
  },
  "language_info": {
   "codemirror_mode": {
    "name": "ipython",
    "version": 3
   },
   "file_extension": ".py",
   "mimetype": "text/x-python",
   "name": "python",
   "nbconvert_exporter": "python",
   "pygments_lexer": "ipython3",
   "version": "3.10.11"
  }
 },
 "nbformat": 4,
 "nbformat_minor": 5
}
