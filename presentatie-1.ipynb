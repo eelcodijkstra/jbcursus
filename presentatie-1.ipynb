{
 "cells": [
  {
   "cell_type": "markdown",
   "id": "12e24e6e-6d2d-488a-908f-323c0d325f62",
   "metadata": {
    "slideshow": {
     "slide_type": "slide"
    },
    "tags": []
   },
   "source": [
    "# Presentatie 1"
   ]
  },
  {
   "cell_type": "markdown",
   "id": "a5359616-6a98-44dc-9d48-9348c6ddc78a",
   "metadata": {
    "slideshow": {
     "slide_type": "slide"
    },
    "tags": []
   },
   "source": [
    "## Inhoud\n",
    "\n",
    "* Wat is Jupyter?\n",
    "* Jupyter voor informatica-onderwijs\n",
    "* Zelf aan de slag (Basthon)"
   ]
  },
  {
   "cell_type": "markdown",
   "id": "e57ff6f7-56b1-49be-b0a9-bba3a29c9c07",
   "metadata": {
    "slideshow": {
     "slide_type": "slide"
    },
    "tags": []
   },
   "source": [
    "## Jupyter achtergrond\n",
    "\n",
    "* oorspronkelijk: iPython notebook\n",
    "    * combineert opgemaakte tekst (-cellen)\n",
    "    * met uitvoerbare Python code (-cellen)\n",
    "    * en bijbehorende data\n",
    "* voor *Data Science*: onderzoek en publicatie\n",
    "    * kleine(re) stap van onderzoek naar publicatie\n",
    "    * lezer kan resultaten reproduceren...\n",
    "    * ...en eventueel zelf experimeteren"
   ]
  },
  {
   "cell_type": "markdown",
   "id": "1aa89c26-1420-4945-baab-cde6b5f9f6c8",
   "metadata": {
    "slideshow": {
     "slide_type": "slide"
    },
    "tags": []
   },
   "source": [
    "## Notebook\n",
    "\n",
    "![](figs/notebook.drawio.png)"
   ]
  },
  {
   "cell_type": "markdown",
   "id": "f86541b9-8e8c-4927-ac84-58b744536edd",
   "metadata": {
    "slideshow": {
     "slide_type": "slide"
    },
    "tags": []
   },
   "source": [
    "## iPython architectuur\n",
    "\n",
    "![](figs/jupyter-architectuur.drawio.png)"
   ]
  },
  {
   "cell_type": "markdown",
   "id": "431d310f-5799-4917-a7f1-2ee847507ae8",
   "metadata": {
    "slideshow": {
     "slide_type": "slide"
    },
    "tags": []
   },
   "source": [
    "## Van iPython naar Jupyter\n",
    "\n",
    "![](figs/jupyter-ecosystem-logo.png)"
   ]
  },
  {
   "cell_type": "markdown",
   "id": "38a92e16-33cb-4f5e-a21d-bb910c37e992",
   "metadata": {
    "slideshow": {
     "slide_type": "slide"
    },
    "tags": []
   },
   "source": [
    "## Van iPython naar Jupyter\n",
    "\n",
    "* meerdere kernels: \n",
    "    * Python, R, ...., JavaScript (en P5JS), SQL, OCaml, Elm,\n",
    "* meerdere User Interfaces\n",
    "    * Jupyter Notebook, Jupyter Lab, ...\n",
    "* andere software (en standaarden, enz.)\n",
    "    * Jupyter Book (*executable books*)\n",
    "    * MyST-JS"
   ]
  },
  {
   "cell_type": "markdown",
   "id": "f50ed6bc-e613-4db2-ab72-3460fa987252",
   "metadata": {
    "slideshow": {
     "slide_type": "slide"
    },
    "tags": []
   },
   "source": [
    "## Jupyter voor informatica-onderwijs\n",
    "\n",
    "* combinatie van opgemaakte tekst (met figuren, formules, enz.)\n",
    "* met uitvoerbare en *aanpasbare* code => *scaffolding* van code\n",
    "* extensies o.a. Python Tutor\n",
    "* Jupyter Book\n",
    "    * verzameling notebooks en MarkDown bestanden\n",
    "    * met structuur, navigatie en zoeken\n",
    "    * extensie: exercises (opdrachten en uitwerkingen)\n",
    "    * extensie: assessment (multiple choice vragen enz.)\n",
    "* **open source!**"
   ]
  },
  {
   "cell_type": "markdown",
   "id": "9de896c5-7b4c-4d78-a6ec-f88463a3ea6d",
   "metadata": {
    "slideshow": {
     "slide_type": "slide"
    },
    "tags": []
   },
   "source": [
    "## Interactieve presentaties\n",
    "\n",
    "Onderstaande alleen in Jupyter Lab **(niet in Basthon)**"
   ]
  },
  {
   "cell_type": "code",
   "execution_count": 9,
   "id": "95f53645-f2cb-4310-a37c-a02a394f72cd",
   "metadata": {
    "slideshow": {
     "slide_type": "slide"
    },
    "tags": []
   },
   "outputs": [],
   "source": [
    "%LOAD data/top2000.db"
   ]
  },
  {
   "cell_type": "markdown",
   "id": "4c7a19ca-ac2e-47d7-8ab0-57b51d9341cc",
   "metadata": {
    "slideshow": {
     "slide_type": "slide"
    },
    "tags": []
   },
   "source": [
    "## Voorbeeld: databases\n",
    "\n",
    "Voer de onderstaande code uit door Shift-Enter in de code-cel"
   ]
  },
  {
   "cell_type": "code",
   "execution_count": 10,
   "id": "3f2955f8-a774-44f5-9a29-0f2f283c213e",
   "metadata": {
    "tags": []
   },
   "outputs": [
    {
     "data": {
      "text/html": [
       "<table>\n",
       "<tr>\n",
       "<th>top</th>\n",
       "<th>positie</th>\n",
       "<th>titel</th>\n",
       "<th>artiest</th>\n",
       "<th>jaar</th>\n",
       "</tr>\n",
       "<tr>\n",
       "<td>2015</td>\n",
       "<td>1</td>\n",
       "<td>Imagine</td>\n",
       "<td>John Lennon</td>\n",
       "<td>1971</td>\n",
       "</tr>\n",
       "<tr>\n",
       "<td>2015</td>\n",
       "<td>2</td>\n",
       "<td>Bohemian Rhapsody</td>\n",
       "<td>Queen</td>\n",
       "<td>1975</td>\n",
       "</tr>\n",
       "<tr>\n",
       "<td>2015</td>\n",
       "<td>3</td>\n",
       "<td>Hotel California</td>\n",
       "<td>Eagles</td>\n",
       "<td>1977</td>\n",
       "</tr>\n",
       "<tr>\n",
       "<td>2015</td>\n",
       "<td>4</td>\n",
       "<td>Mag Ik Dan Bij Jou</td>\n",
       "<td>Claudia De Breij</td>\n",
       "<td>2011</td>\n",
       "</tr>\n",
       "<tr>\n",
       "<td>2015</td>\n",
       "<td>5</td>\n",
       "<td>Stairway To Heaven</td>\n",
       "<td>Led Zeppelin</td>\n",
       "<td>1971</td>\n",
       "</tr>\n",
       "</table>"
      ],
      "text/plain": [
       "+------+---------+--------------------+------------------+------+\n",
       "| top  | positie | titel              | artiest          | jaar |\n",
       "+------+---------+--------------------+------------------+------+\n",
       "| 2015 | 1       | Imagine            | John Lennon      | 1971 |\n",
       "+------+---------+--------------------+------------------+------+\n",
       "| 2015 | 2       | Bohemian Rhapsody  | Queen            | 1975 |\n",
       "+------+---------+--------------------+------------------+------+\n",
       "| 2015 | 3       | Hotel California   | Eagles           | 1977 |\n",
       "+------+---------+--------------------+------------------+------+\n",
       "| 2015 | 4       | Mag Ik Dan Bij Jou | Claudia De Breij | 2011 |\n",
       "+------+---------+--------------------+------------------+------+\n",
       "| 2015 | 5       | Stairway To Heaven | Led Zeppelin     | 1971 |\n",
       "+------+---------+--------------------+------------------+------+"
      ]
     },
     "execution_count": 10,
     "metadata": {},
     "output_type": "execute_result"
    }
   ],
   "source": [
    "SELECT *\n",
    "FROM top2000\n",
    "LIMIT 5;"
   ]
  },
  {
   "cell_type": "markdown",
   "id": "7642a3d4-8867-4944-9df4-c8869e0ebbb4",
   "metadata": {
    "slideshow": {
     "slide_type": "slide"
    },
    "tags": []
   },
   "source": [
    "## Basthon - \"kernel in de browser\"\n",
    "\n",
    "![](figs/basthon-architectuur.drawio.png)"
   ]
  },
  {
   "cell_type": "markdown",
   "id": "4405a2d4-e551-4488-817f-edf77aa7ab54",
   "metadata": {
    "slideshow": {
     "slide_type": "slide"
    },
    "tags": []
   },
   "source": [
    "## Basthon DB voorbeeld\n",
    "\n",
    "Ga zelf aan de slag met:\n",
    "\n",
    "* https://jupyter.infvo.nl/books/eelco/notebook/?kernel=sql&from=ieni2023/top2000-selectie.ipynb&module=ieni2023/top2000.db\n",
    "\n",
    "Voer de code-cellen uit, pas deze aan, voer uit, enz.\n",
    "\n",
    "Opdrachten: van volledig uitgewerkt tot volledig uit te werken"
   ]
  },
  {
   "cell_type": "markdown",
   "id": "e6b58728-cd63-48f4-9bf7-032e0237f258",
   "metadata": {
    "slideshow": {
     "slide_type": "slide"
    },
    "tags": []
   },
   "source": [
    "## Basthon in Franse onderwijs\n",
    "\n",
    "* 5,000 scholen\n",
    "* 100% van de Franse openbare scholen\n",
    "* 210,000+ actieve gebruikers\n",
    "* 1,100,000+ activiteiten\n",
    "* 80,000 notebooks/week\n",
    "    * 1 server: Intel Xeon 2 CPU E5-2620 v3 @ 2.40GHz 2 cores + 15GB RAM\n",
    "* 100,000 pyodide/week (Python in de browser)\n",
    "\n",
    "(Bron: CaPytale presentatie - dec. 2022, Jupyter Lite workshop)"
   ]
  },
  {
   "cell_type": "markdown",
   "id": "3856a20e-51fb-477b-a0fe-cbc7a2102b44",
   "metadata": {
    "slideshow": {
     "slide_type": "slide"
    },
    "tags": []
   },
   "source": [
    "## Voordelen Basthon\n",
    "\n",
    "* Basthon: \"zandbak\" voor Python (en andere kernels)\n",
    "* geen server nodig (alleen statische website)\n",
    "* privacy (geen tracking)\n",
    "* veilig - voor computer en voor server/data\n",
    "    * zandbak in de browser: veilig voor computer\n",
    "    * data in zandbak: veilig voor server-data\n",
    "    * veilig experimenteren met code en data"
   ]
  },
  {
   "cell_type": "markdown",
   "id": "c0d1d380-ced3-44a1-b263-a1f5d9272d88",
   "metadata": {
    "slideshow": {
     "slide_type": "slide"
    },
    "tags": []
   },
   "source": [
    "## Basthon: meer voorbeelden\n",
    "\n",
    "Databases:\n",
    "\n",
    "* https://jupyter.infvo.nl/books/eelco/notebook/?kernel=sql&from=ieni2023/top2000-samenvatten.ipynb&module=ieni2023/top2000.db\n",
    "* https://jupyter.infvo.nl/books/eelco/notebook/?kernel=sql&from=ieni2023/bibliotheek-a.ipynb&module=ieni2023/bibliotheek.db\n",
    "\n",
    "Python:\n",
    "\n",
    "* https://jupyter.infvo.nl/books/eelco/notebook/?from=examples/python3-voorbeeld.ipynb"
   ]
  },
  {
   "cell_type": "markdown",
   "id": "88424447-46fd-4008-99d2-a6ecd0dd08e2",
   "metadata": {
    "slideshow": {
     "slide_type": "slide"
    },
    "tags": []
   },
   "source": [
    "## Basthon: andere voorbeelden\n",
    "\n",
    "* zie: https://basthon.fr/galerie.html\n",
    "* Python tutor - https://notebook.basthon.fr/?from=examples/python3-pythontutor.ipynb\n",
    "* turtle grahics (voor fractals) - https://notebook.basthon.fr/?from=examples/python3-decorateurs.ipynb\n",
    "* vrije val van een bal (Python) - https://notebook.basthon.fr/?from=examples/python3-chute-libre.ipynb\n",
    "* binaire bomen (Python) - https://notebook.basthon.fr/?from=examples/python3-binarytree.ipynb\n",
    "* visualisatie van datastructuren - https://notebook.basthon.fr/?from=examples/python3-lolviz.ipynb"
   ]
  },
  {
   "cell_type": "markdown",
   "id": "b4ed06bf-6878-45c0-8c65-719b28ef48e9",
   "metadata": {
    "slideshow": {
     "slide_type": "slide"
    },
    "tags": []
   },
   "source": [
    "## Basthon: notebook aanpassen\n",
    "\n",
    "* pas tekst aan\n",
    "    * edit: MarkDown notatie\n",
    "    * run: formatteren\n",
    "* cellen toevoegen en verwijderen; cel-type aanpassen\n",
    "* volgorde veranderen; split, merge; copy, paste\n",
    "* notebook: download, upload\n",
    "* kiezen van een andere kernel"
   ]
  },
  {
   "cell_type": "markdown",
   "id": "13b49673-29ce-45f5-aeff-c3c313b8464f",
   "metadata": {},
   "source": [
    "## Huiswerk\n",
    "\n",
    "* bedenk toepassingen voor Basthon-notebooks\n",
    "* maak een Basthon notebook\n"
   ]
  },
  {
   "cell_type": "markdown",
   "id": "2fed2fc4-dafc-4e68-ad60-0d20e60910e0",
   "metadata": {
    "slideshow": {
     "slide_type": "slide"
    },
    "tags": []
   },
   "source": [
    "## Basthon: notebook publiceren\n",
    "\n",
    "* volgende bijeenkomst"
   ]
  },
  {
   "cell_type": "markdown",
   "id": "a42c169f-9f4b-49ff-b484-fb432112db92",
   "metadata": {},
   "source": []
  }
 ],
 "metadata": {
  "kernelspec": {
   "display_name": "xsqlite",
   "language": "sqlite",
   "name": "xsqlite"
  },
  "language_info": {
   "codemirror_mode": "sql",
   "file_extension": "",
   "mimetype": "",
   "name": "sql",
   "version": "3.33.0"
  }
 },
 "nbformat": 4,
 "nbformat_minor": 5
}
