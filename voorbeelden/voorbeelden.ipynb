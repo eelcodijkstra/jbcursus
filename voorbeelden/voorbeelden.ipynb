{
 "cells": [
  {
   "cell_type": "markdown",
   "id": "824af721-5434-411c-9c5f-f6ed4f5ff797",
   "metadata": {},
   "source": [
    "(voorbeeld-paginas)=\n",
    "# Keuzethema-voorbeelden"
   ]
  },
  {
   "cell_type": "markdown",
   "id": "0afee09e-1e4a-4c2f-afc0-22d6299005e9",
   "metadata": {},
   "source": [
    "De volgende pagina's bevatten voorbeelden van het keuzethema-materiaal, vormgegeven met Jupyter Book.\n",
    "\n",
    "* {ref}`Elm - functioneel programmeren <Elm-voorbeeld>`\n",
    "* {ref}`Physical computing <microbit-1b>`\n",
    "* {ref}`SQL - databases <sqlite-2>`\n",
    "\n"
   ]
  }
 ],
 "metadata": {
  "kernelspec": {
   "display_name": "Python 3 (ipykernel)",
   "language": "python",
   "name": "python3"
  },
  "language_info": {
   "codemirror_mode": {
    "name": "ipython",
    "version": 3
   },
   "file_extension": ".py",
   "mimetype": "text/x-python",
   "name": "python",
   "nbconvert_exporter": "python",
   "pygments_lexer": "ipython3",
   "version": "3.10.4"
  }
 },
 "nbformat": 4,
 "nbformat_minor": 5
}
