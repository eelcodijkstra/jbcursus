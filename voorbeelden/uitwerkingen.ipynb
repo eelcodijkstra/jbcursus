{
 "cells": [
  {
   "cell_type": "markdown",
   "id": "c176c867-505d-4fce-9269-3dc5c00912d3",
   "metadata": {},
   "source": [
    "# Uitwerkingen van de opdrachten"
   ]
  },
  {
   "cell_type": "markdown",
   "id": "f5cdfd23-560b-4d72-97d2-68f3e46d8aea",
   "metadata": {},
   "source": [
    "````{solution} voorbeeld-1\n",
    "\n",
    "Dit is een voorbeeld-uitwerking van de opdracht. Er zijn andere uitwerkingen mogelijk.\n",
    "\n",
    "```Python\n",
    "x = 0\n",
    "while x < 10:\n",
    "    print(x)\n",
    "    x = x + 1\n",
    "```\n",
    "````"
   ]
  },
  {
   "cell_type": "markdown",
   "id": "d0f02381-48f0-49db-92d3-a02a9c00345c",
   "metadata": {},
   "source": [
    "In de *solution* verwijst de titel naar het *label* van de opdracht."
   ]
  }
 ],
 "metadata": {
  "kernelspec": {
   "display_name": "Python 3 (ipykernel)",
   "language": "python",
   "name": "python3"
  },
  "language_info": {
   "codemirror_mode": {
    "name": "ipython",
    "version": 3
   },
   "file_extension": ".py",
   "mimetype": "text/x-python",
   "name": "python",
   "nbconvert_exporter": "python",
   "pygments_lexer": "ipython3",
   "version": "3.9.7"
  }
 },
 "nbformat": 4,
 "nbformat_minor": 5
}
