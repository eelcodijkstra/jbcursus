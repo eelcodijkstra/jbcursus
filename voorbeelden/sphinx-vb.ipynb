{
 "cells": [
  {
   "cell_type": "markdown",
   "id": "0f419a28-c81c-4009-a777-beea5076ad04",
   "metadata": {},
   "source": [
    "# Sphinx elementen"
   ]
  },
  {
   "cell_type": "markdown",
   "id": "8ea2cbf6-0dbd-4798-8232-0781004d2026",
   "metadata": {},
   "source": [
    "Een Jupyter Book bestaat uit Jupyter Notebooks en Markdown (MyST) bestanden.\n",
    "In beide kun je Sphinx elementen gebruiken (in de MyST Markdown notatie).\n",
    "Deze pagina bevat enkele voorbeelden van Sphinx-elementen."
   ]
  },
  {
   "cell_type": "markdown",
   "id": "c83f274f-3c74-4538-99b6-b317672c0c3a",
   "metadata": {},
   "source": [
    "> Sphinx wordt veel gebruikt voor Python-gerelateerde documentatie, zoals je die vindt op https://readthedocs.io."
   ]
  },
  {
   "cell_type": "markdown",
   "id": "2ca06954-1b4c-4136-a624-7b0a65a3ced2",
   "metadata": {},
   "source": [
    "## Admonitions\n",
    "\n",
    "Voor waarschuwingen, tips, e.d. zijn er speciale \"admonition\" blokken, met een gekleurde rand en titel.\n",
    "Voor elk soort betekenis is er een speciale kleur en icon.\n",
    "\n",
    "Voorbeelden:"
   ]
  },
  {
   "cell_type": "markdown",
   "id": "b91d10ca-6b8a-439b-8eee-fdf203f8a71d",
   "metadata": {},
   "source": [
    ":::{note}\n",
    "Dit is een opmerking. Door de vormgeving krijgt deze extra aandacht.\n",
    ":::\n",
    "\n",
    ":::{warning}\n",
    "Dit is een waarschuwing.\n",
    ":::\n",
    "\n",
    ":::{tip}\n",
    "Dit is een tip.\n",
    ":::\n",
    "\n",
    "Deze admonition-blokken worden ook gebruikt voor opdrachten en toetsvragen."
   ]
  },
  {
   "cell_type": "markdown",
   "id": "0a496686-adef-4a9e-bb74-e88b513e7118",
   "metadata": {},
   "source": [
    "## Sphinx design: cards\n",
    "\n",
    "* https://sphinx-design.readthedocs.io/en/sbt-theme/cards.html\n"
   ]
  },
  {
   "cell_type": "markdown",
   "id": "cf0d5db9-d3c2-4ee7-916e-884ce751816e",
   "metadata": {},
   "source": [
    "::::{grid} 2\n",
    "\n",
    ":::{grid-item-card} Card title 1\n",
    "\n",
    "Card header 1\n",
    "^^^\n",
    "Card body 1\n",
    "+++\n",
    "Card footer 1\n",
    ":::\n",
    "\n",
    ":::{grid-item-card} Card title 2\n",
    "\n",
    "Card header 2\n",
    "^^^\n",
    "Card body 2\n",
    "+++\n",
    "Card footer 2\n",
    ":::\n",
    "\n",
    "::::"
   ]
  },
  {
   "cell_type": "markdown",
   "id": "a761578c-f4e9-4240-a3bd-f723dde4d4bc",
   "metadata": {},
   "source": [
    "## Aantekeningen in de marge"
   ]
  },
  {
   "cell_type": "markdown",
   "id": "66bbf047-ffbc-43da-9ca2-078397f5e5d5",
   "metadata": {},
   "source": [
    "```{margin} Marginal note\n",
    "Dit is een aantekening in de marge.\n",
    "Deze illustreert de tekst hiernaast.\n",
    "```"
   ]
  },
  {
   "cell_type": "markdown",
   "id": "333f5754-7196-4888-b8a2-a9a8e8748761",
   "metadata": {},
   "source": [
    "Een bekende stijl voor (les)boeken is het gebruik van aantekeningen in de marge (marginal notes). Deze stijl wordt onder meer gebruikt in Feynmann's Lectures on Physics. Edward Tufte maakt hiervan ook graag gebruik.\n",
    "\n",
    "Dit is één van de stijlen die door Jupyter Book direct ondersteund wordt. Zie: https://jupyterbook.org/content/layout.html"
   ]
  },
  {
   "cell_type": "markdown",
   "id": "b944e357-c7da-4232-88b8-08bae5a4b865",
   "metadata": {},
   "source": [
    "## Zijbalk-elementen"
   ]
  },
  {
   "cell_type": "markdown",
   "id": "64a88218-2040-4e07-af16-3ae075474f61",
   "metadata": {},
   "source": [
    "```{sidebar} Verbanden zijn belangrijk\n",
    "Voor het onthouden en verwerken van nieuwe concepten zijn verbanden met andere concepten die je al eerder gezien hebt van belang. In een zijbalk (sidebar) kun je dergelijke verbanden aangeven zonder de lijn van het lopende verhaal te onderbreken.\n",
    "\n",
    "Je kunt daarvoor aantekeningen in de marge gebruiken, of een zijbalk, zoals hier.\n",
    "```"
   ]
  },
  {
   "cell_type": "markdown",
   "id": "d29bd858-1a38-47ee-a47f-f3233a1a3053",
   "metadata": {},
   "source": [
    "Een ander veel gebruikt element is de zijbalk: een toelichting of voorbeeld bij de lopende tekst, niet direct van belang voor het volgen van de lijn van het verhaal. Je kunt hier bijvoorbeeld een verband met een ander onderwerp aangeven.\n",
    "\n",
    "In het algemeen is een zijbalk groter en opvallender. Deze trekt soms meer aandacht dan de lopende tekst."
   ]
  }
 ],
 "metadata": {
  "kernelspec": {
   "display_name": "Python 3 (ipykernel)",
   "language": "python",
   "name": "python3"
  },
  "language_info": {
   "codemirror_mode": {
    "name": "ipython",
    "version": 3
   },
   "file_extension": ".py",
   "mimetype": "text/x-python",
   "name": "python",
   "nbconvert_exporter": "python",
   "pygments_lexer": "ipython3",
   "version": "3.10.4"
  }
 },
 "nbformat": 4,
 "nbformat_minor": 5
}
