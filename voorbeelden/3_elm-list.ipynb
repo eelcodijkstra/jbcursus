{
 "cells": [
  {
   "cell_type": "markdown",
   "id": "20a69600-4866-43ae-872e-9dea34f36707",
   "metadata": {},
   "source": [
    "(Elm-voorbeeld)=\n",
    "# Elm: Intro Lists"
   ]
  },
  {
   "cell_type": "markdown",
   "id": "2e6e34c8-59f0-4125-873d-646a4686de6d",
   "metadata": {},
   "source": [
    ":::{admonition} Elm voorbeelden\n",
    "\n",
    "Deze pagina is onderdeel van keuzethema Programmeerparadigma's: Functioneel programmeren (Elm).\n",
    "\n",
    "Je maakt deze pagina interactief via de \"Live code\" button (onder de raket, bovenin).  Elke code-cel krijgt dan de knoppen “run”, “restart” en “restart & run all”. Je kunt de code van een code-cel dan aanpassen en de cel opnieuw uitvoeren: op die manier kun je experimenteren met Elm.\n",
    "\n",
    "Je start deze pagina op als *Jupyter Notebook* via de \"Binder\" button (ook onder de raket).\n",
    ":::"
   ]
  },
  {
   "cell_type": "markdown",
   "id": "97e51120-c38c-44aa-80c0-69332dfcd151",
   "metadata": {},
   "source": [
    "Run de volgende cel:"
   ]
  },
  {
   "cell_type": "code",
   "execution_count": 1,
   "id": "a4b79bc8-bec5-4c83-be87-4bbd538bfa29",
   "metadata": {},
   "outputs": [
    {
     "name": "stdout",
     "output_type": "stream",
     "text": [
      "[\u001b[95m1\u001b[0m,\u001b[95m2\u001b[0m,\u001b[95m3\u001b[0m,\u001b[95m4\u001b[0m,\u001b[95m5\u001b[0m,\u001b[95m6\u001b[0m,\u001b[95m7\u001b[0m,\u001b[95m8\u001b[0m,\u001b[95m9\u001b[0m]\u001b[90m\n",
      "    : List Int\u001b[0m\n"
     ]
    }
   ],
   "source": [
    "List.range 1 9"
   ]
  },
  {
   "cell_type": "markdown",
   "id": "4679de87-5e0d-409b-8a3b-844fc16c1dd1",
   "metadata": {},
   "source": [
    "Hee, hoe komt dat? Blijkbaar wordt er een 'lijstje' (`List`) van getallen opgebouwd."
   ]
  },
  {
   "cell_type": "markdown",
   "id": "6402302a-69e4-4ef9-9720-9ec9ab992aab",
   "metadata": {},
   "source": [
    "## Lijsten creëren\n",
    "\n",
    "Een andere manier om een List te creëren is:"
   ]
  },
  {
   "cell_type": "code",
   "execution_count": 2,
   "id": "5fe8ee55-862f-47a8-ad40-15c35d15cc14",
   "metadata": {},
   "outputs": [
    {
     "name": "stdout",
     "output_type": "stream",
     "text": [
      "[\u001b[95m3\u001b[0m,\u001b[95m5\u001b[0m,\u001b[95m6\u001b[0m,\u001b[95m8\u001b[0m]\u001b[90m : List number\u001b[0m\n"
     ]
    }
   ],
   "source": [
    "[ 3 , 5 , 6 , 8 ]"
   ]
  },
  {
   "cell_type": "markdown",
   "id": "16ed64f2-5899-44ab-b7ff-5b9f467f7a87",
   "metadata": {},
   "source": [
    "ofwel het simpelweg opsommen wat er in moet komen.\n",
    "Voorbeeld met woorden/strings er in:"
   ]
  },
  {
   "cell_type": "code",
   "execution_count": 3,
   "id": "7b11514d-48a4-44ba-8bb3-8e61321967a6",
   "metadata": {},
   "outputs": [
    {
     "name": "stdout",
     "output_type": "stream",
     "text": [
      "[\u001b[93m\"abra\"\u001b[0m,\u001b[93m\"ca\"\u001b[0m,\u001b[93m\"dabra\"\u001b[0m]\u001b[90m : List String\u001b[0m\n"
     ]
    }
   ],
   "source": [
    "[ \"abra\" , \"ca\" , \"dabra\" ]"
   ]
  },
  {
   "cell_type": "markdown",
   "id": "aa2bf16e-358f-416d-b732-b14c29bad255",
   "metadata": {},
   "source": [
    "Je ziet bij die 2 voorbeelden in het resultaat wat het type van de elementen is. Wat als we strings en ints mixen?"
   ]
  },
  {
   "cell_type": "code",
   "execution_count": 4,
   "id": "c0793142-5242-42e0-9db2-ea5fb2308c27",
   "metadata": {},
   "outputs": [
    {
     "name": "stdout",
     "output_type": "stream",
     "text": [
      "\u001b[36m-- TYPE MISMATCH ---------------------------------------------------------- REPL\u001b[0m\n",
      "\n",
      "The 2nd element of this list does not match all the previous elements:\n",
      "\n",
      "3|   [ \"abra\" , 5 , \"dabra\" ]\n",
      "                \u001b[91m^\u001b[0m\n",
      "The 2nd element is a number of type:\n",
      "\n",
      "    \u001b[33mnumber\u001b[0m\n",
      "\n",
      "But all the previous elements in the list are:\n",
      "\n",
      "    \u001b[33mString\u001b[0m\n",
      "\n",
      "\u001b[4mHint\u001b[0m: Everything in a list must be the same type of value. This way, we never\n",
      "run into unexpected values partway through a List.map, List.foldl, etc. Read\n",
      "<https://elm-lang.org/0.19.1/custom-types> to learn how to “mix” types.\n",
      "\n",
      "\u001b[4mHint\u001b[0m: Try using \u001b[92mString.fromInt\u001b[0m to convert it to a string?\n",
      "\n"
     ]
    }
   ],
   "source": [
    "[ \"abra\" , 5 , \"dabra\" ]"
   ]
  },
  {
   "cell_type": "markdown",
   "id": "82f761fb-b0f9-440c-9758-efb7f9070dce",
   "metadata": {},
   "source": [
    "Zoals je ziet vereist Elm dat de elementen van een lijst van hetzelfde type zijn."
   ]
  },
  {
   "cell_type": "markdown",
   "id": "c74c98ae-eaa0-45a2-8271-17d987fa3f89",
   "metadata": {},
   "source": [
    "Een bijzondere versie van het opsommen van de elementen is de lege List: een List zonder elementen. Dat doe je zo (eigenlijk ook op de 'opsom-manier', door 0 elementen op te sommen):"
   ]
  },
  {
   "cell_type": "code",
   "execution_count": 5,
   "id": "64d6fb9f-5bee-4551-9d27-c544c609c497",
   "metadata": {},
   "outputs": [
    {
     "name": "stdout",
     "output_type": "stream",
     "text": [
      "[]\u001b[90m : List a\u001b[0m\n"
     ]
    }
   ],
   "source": [
    "[]"
   ]
  },
  {
   "cell_type": "markdown",
   "id": "d4b11bdb-c668-4b11-b001-6b088914e918",
   "metadata": {},
   "source": [
    "Dat lijkt misschien niet zo bijzonder maar een lege lijst is bij het werken met\n",
    "lijsten net zo belangrijk als de getallen 0 en 1 bij optellen en vermenigvuldigen.\n",
    "Ook kun je aan een bestaande List met behulp van :: een element toevoegen:"
   ]
  },
  {
   "cell_type": "code",
   "execution_count": 6,
   "id": "c07c59ca-1675-4de0-9d32-714bb218e986",
   "metadata": {},
   "outputs": [
    {
     "name": "stdout",
     "output_type": "stream",
     "text": [
      "[\u001b[95m42\u001b[0m,\u001b[95m1\u001b[0m,\u001b[95m2\u001b[0m,\u001b[95m3\u001b[0m,\u001b[95m4\u001b[0m,\u001b[95m5\u001b[0m,\u001b[95m6\u001b[0m,\u001b[95m7\u001b[0m,\u001b[95m8\u001b[0m,\u001b[95m9\u001b[0m]\u001b[90m\n",
      "    : List Int\u001b[0m\n"
     ]
    }
   ],
   "source": [
    "42 :: (List.range 1 9)"
   ]
  },
  {
   "cell_type": "markdown",
   "id": "eacb8c20-50c4-4edc-8ba0-e7f7b24c65a0",
   "metadata": {},
   "source": [
    "en ook meerdere elementen toevoegen kan:"
   ]
  },
  {
   "cell_type": "code",
   "execution_count": 7,
   "id": "72c718cd-0753-4068-ba60-4150f74d38c2",
   "metadata": {},
   "outputs": [
    {
     "name": "stdout",
     "output_type": "stream",
     "text": [
      "[\u001b[95m83\u001b[0m,\u001b[95m42\u001b[0m,\u001b[95m1\u001b[0m,\u001b[95m2\u001b[0m,\u001b[95m3\u001b[0m,\u001b[95m4\u001b[0m,\u001b[95m5\u001b[0m,\u001b[95m6\u001b[0m,\u001b[95m7\u001b[0m,\u001b[95m8\u001b[0m,\u001b[95m9\u001b[0m]\u001b[90m\n",
      "    : List Int\u001b[0m\n"
     ]
    }
   ],
   "source": [
    "83 :: 42 :: (List.range 1 9)"
   ]
  },
  {
   "cell_type": "markdown",
   "id": "b25aa071-70f3-493d-8584-113ab2280cbe",
   "metadata": {},
   "source": [
    "Zoals je ziet zijn haakjes hier niet nodig. Op deze manier kun je een bestaande\n",
    "List verlengen.\n",
    "\n",
    "Om van een List het eerste element te krijgen bestaat de functie `head`:"
   ]
  },
  {
   "cell_type": "code",
   "execution_count": 8,
   "id": "fedab146-37b7-463f-949a-956337ae8fa2",
   "metadata": {},
   "outputs": [
    {
     "name": "stdout",
     "output_type": "stream",
     "text": [
      "\u001b[96mJust\u001b[0m \u001b[95m83\u001b[0m\u001b[90m : Maybe Int\u001b[0m\n"
     ]
    }
   ],
   "source": [
    "List.head (83 :: 42 :: (List.range 1 9))"
   ]
  },
  {
   "cell_type": "markdown",
   "id": "ab382e76-37b6-411f-b8f8-c6cb451e4c4d",
   "metadata": {},
   "source": [
    "'Maybe'? Ja, want misschien was de List wel leeg en dan wordt er geen Int teruggegeven. Maybe is het een goed idee zelf op internet nog wat informatie op te zoeken, gebruik bijvoorbeeld de keywords 'elm lang List maybe'.\n",
    "\n",
    "Nog een voorbeeld van Head:"
   ]
  },
  {
   "cell_type": "code",
   "execution_count": 9,
   "id": "d6a1173b-a55e-4c11-92e8-3e94b6dfb533",
   "metadata": {},
   "outputs": [
    {
     "name": "stdout",
     "output_type": "stream",
     "text": [
      "\u001b[96mJust\u001b[0m \u001b[93m\"abra\"\u001b[0m\u001b[90m : Maybe String\u001b[0m\n"
     ]
    }
   ],
   "source": [
    "List.head ([ \"abra\" , \"ca\" , \"dabra\" ])"
   ]
  },
  {
   "cell_type": "markdown",
   "id": "282f092b-c4a5-4be0-a032-7cc161ebd7aa",
   "metadata": {},
   "source": [
    "Ook is het mogelijk juist allesbehalve het eerste element op te vragen: de 'tail':"
   ]
  },
  {
   "cell_type": "code",
   "execution_count": 10,
   "id": "201471e3-c3b3-49ae-804b-c11763835995",
   "metadata": {},
   "outputs": [
    {
     "name": "stdout",
     "output_type": "stream",
     "text": [
      "\u001b[96mJust\u001b[0m [\u001b[95m42\u001b[0m,\u001b[95m1\u001b[0m,\u001b[95m2\u001b[0m,\u001b[95m3\u001b[0m,\u001b[95m4\u001b[0m,\u001b[95m5\u001b[0m,\u001b[95m6\u001b[0m,\u001b[95m7\u001b[0m,\u001b[95m8\u001b[0m,\u001b[95m9\u001b[0m]\u001b[90m\n",
      "    : Maybe (List Int)\u001b[0m\n"
     ]
    }
   ],
   "source": [
    "List.tail (83 :: 42 :: (List.range 1 9))"
   ]
  },
  {
   "cell_type": "code",
   "execution_count": 11,
   "id": "f9bce3dd-329f-4cb7-b61b-49763b2fa465",
   "metadata": {},
   "outputs": [
    {
     "name": "stdout",
     "output_type": "stream",
     "text": [
      "\u001b[96mJust\u001b[0m [\u001b[93m\"ca\"\u001b[0m,\u001b[93m\"dabra\"\u001b[0m]\u001b[90m : Maybe (List String)\u001b[0m\n"
     ]
    }
   ],
   "source": [
    "List.tail ([ \"abra\" , \"ca\" , \"dabra\" ])"
   ]
  },
  {
   "cell_type": "markdown",
   "id": "fe59555e-1656-4952-a950-be93717c2e8f",
   "metadata": {},
   "source": [
    "Als je er even over nadenkt zie je wellicht dat een List in essentie 2 verschillende vormen kan hebben: het is óf een lege List óf het is een element ('head' genaamd) gevolgd door een List (die ook weer leeg kan zijn óf bestaat uit een head en een List (de tail, die ook weer leeg kan zijn óf ... enzovoort))."
   ]
  },
  {
   "cell_type": "markdown",
   "id": "86ab1cf1-1d8b-432d-9cf6-be9ef410d423",
   "metadata": {},
   "source": [
    "**En tel er 2 bij op...**\n",
    "\n",
    "Het leuke van Lists is dat je er berekeningen op kunt gaan toepassen. Stel\n",
    "we willen bij elk getal in de List het getal 2 optellen. We mappen dan de\n",
    "functie telTweeOpBij op elk getal uit de List:\n",
    "Met mappen wordt bedoeld: Het toepassen van de functie op elk van de items in de lijst.\n",
    "(De functie telTweeOpBij hebben we eerder gezien, maar hier opnieuw):"
   ]
  },
  {
   "cell_type": "code",
   "execution_count": 12,
   "id": "c4a8b449-3ac6-4dfc-900f-87b6798885e1",
   "metadata": {},
   "outputs": [
    {
     "name": "stdout",
     "output_type": "stream",
     "text": [
      "\u001b[36m<function>\u001b[0m\u001b[90m : number -> number\u001b[0m\n"
     ]
    }
   ],
   "source": [
    "telTweeOpBij x = x + 2"
   ]
  },
  {
   "cell_type": "markdown",
   "id": "ceda7629-1f22-47e5-a36c-d532462ce335",
   "metadata": {},
   "source": [
    "Deze functie kunnen we dus toepassen op elk element uit een List:"
   ]
  },
  {
   "cell_type": "code",
   "execution_count": 13,
   "id": "71f88c5e-8a5d-4d0f-afa1-b546fa44db7f",
   "metadata": {},
   "outputs": [
    {
     "name": "stdout",
     "output_type": "stream",
     "text": [
      "[\u001b[95m3\u001b[0m,\u001b[95m4\u001b[0m,\u001b[95m5\u001b[0m,\u001b[95m6\u001b[0m,\u001b[95m7\u001b[0m,\u001b[95m8\u001b[0m,\u001b[95m9\u001b[0m,\u001b[95m10\u001b[0m,\u001b[95m11\u001b[0m]\u001b[90m\n",
      "    : List Int\u001b[0m\n"
     ]
    }
   ],
   "source": [
    "List.map telTweeOpBij (List.range 1 9)"
   ]
  },
  {
   "cell_type": "markdown",
   "id": "fec731d3-560f-426d-b3f9-73acb89c3c00",
   "metadata": {},
   "source": [
    "We hadden in plaats van telTweeOpBij ook kunnen schrijven"
   ]
  },
  {
   "cell_type": "code",
   "execution_count": 14,
   "id": "7bd30083-e82c-4fc3-b92e-97e7c12a0ac7",
   "metadata": {},
   "outputs": [
    {
     "name": "stdout",
     "output_type": "stream",
     "text": [
      "[\u001b[95m3\u001b[0m,\u001b[95m4\u001b[0m,\u001b[95m5\u001b[0m,\u001b[95m6\u001b[0m,\u001b[95m7\u001b[0m,\u001b[95m8\u001b[0m,\u001b[95m9\u001b[0m,\u001b[95m10\u001b[0m,\u001b[95m11\u001b[0m]\u001b[90m\n",
      "    : List Int\u001b[0m\n"
     ]
    }
   ],
   "source": [
    "List.map ( \\x -> x + 2 ) (List.range 1 9)"
   ]
  },
  {
   "cell_type": "markdown",
   "id": "9aceb121-6d23-4c35-a0f8-8446ad6acf0f",
   "metadata": {},
   "source": [
    "waarbij `\\x -> x + 2` een anonymous function is zoals we al eerder gezien hebben.\n",
    "\n",
    "Nu is:\n",
    "\n",
    "List.map ( \\x -> x + 2 ) (List.range 1 9)\n",
    "\n",
    "niet bepaald super-leesbaar. Je mag dit in Elm ook anders opschrijven: Neem (List.range\n",
    "1 9) en map op elk element de functie ( x -> x + 2 ). Dit ziet er dan in de Elm Repl uit\n",
    "als:"
   ]
  },
  {
   "cell_type": "code",
   "execution_count": 15,
   "id": "95e6cb04-fd58-44f0-ae63-1395a3684966",
   "metadata": {},
   "outputs": [
    {
     "name": "stdout",
     "output_type": "stream",
     "text": [
      "[\u001b[95m3\u001b[0m,\u001b[95m4\u001b[0m,\u001b[95m5\u001b[0m,\u001b[95m6\u001b[0m,\u001b[95m7\u001b[0m,\u001b[95m8\u001b[0m,\u001b[95m9\u001b[0m,\u001b[95m10\u001b[0m,\u001b[95m11\u001b[0m]\u001b[90m\n",
      "    : List Int\u001b[0m\n"
     ]
    }
   ],
   "source": [
    "(List.range 1 9) |>  List.map ( \\x -> x + 2 )"
   ]
  },
  {
   "cell_type": "markdown",
   "id": "60dd5574-615f-401f-8181-7f8edc4fb95a",
   "metadata": {},
   "source": [
    "## List.map functie\n",
    "\n",
    "Met behulp van de map (List.map) kunnen we dus een functie toepassen op\n",
    "elk element van een List.\n",
    "\n",
    "List.map eenFunctie eenList\n",
    "\n",
    "De functie eenFunctie wordt toegepast op eenList en het resultaat is een List\n",
    "met evenveel elementen als eenList. Het i-de element van het resultaat is het\n",
    "resutaat van toepassing van functie eenFunctie op de list eenList.\n",
    "Stel ik wil alle kwadraten van de getallen 1 tot en met 30:"
   ]
  },
  {
   "cell_type": "code",
   "execution_count": 16,
   "id": "e77ef9f8-7cf1-4b9b-a56a-bfe9997ecfd9",
   "metadata": {},
   "outputs": [
    {
     "name": "stdout",
     "output_type": "stream",
     "text": [
      "[\u001b[95m1\u001b[0m,\u001b[95m4\u001b[0m,\u001b[95m9\u001b[0m,\u001b[95m16\u001b[0m,\u001b[95m25\u001b[0m,\u001b[95m36\u001b[0m,\u001b[95m49\u001b[0m,\u001b[95m64\u001b[0m,\u001b[95m81\u001b[0m,\u001b[95m100\u001b[0m,\u001b[95m121\u001b[0m,\u001b[95m144\u001b[0m,\u001b[95m169\u001b[0m,\u001b[95m196\u001b[0m,\u001b[95m225\u001b[0m,\u001b[95m256\u001b[0m,\u001b[95m289\u001b[0m,\u001b[95m324\u001b[0m,\u001b[95m361\u001b[0m,\u001b[95m400\u001b[0m,\u001b[95m441\u001b[0m,\u001b[95m484\u001b[0m,\u001b[95m529\u001b[0m,\u001b[95m576\u001b[0m,\u001b[95m625\u001b[0m,\u001b[95m676\u001b[0m,\u001b[95m729\u001b[0m,\u001b[95m784\u001b[0m,\u001b[95m841\u001b[0m,\u001b[95m900\u001b[0m]\u001b[90m\n",
      "    : List Int\u001b[0m\n"
     ]
    }
   ],
   "source": [
    "List.map ( \\x -> x * x ) ( List.range 1 30 )"
   ]
  },
  {
   "cell_type": "markdown",
   "id": "96dea200-771f-477b-a86b-eabe836e2f24",
   "metadata": {},
   "source": [
    "## List.filter\n",
    "\n",
    "De filter-functie (voluit: ’List.filter’) neemt als input een list en de output is\n",
    "een lijst met (alleen die) elementen uit de input die aan een voorwaarde voldoen.\n",
    "De voorwaarde wordt gesteld door een andere functie die (losgelaten\n",
    "op een element van de list) true of false teruggeeft.\n",
    "\n",
    "Zo geeft de functie `\\x -> x > 5` als resultaat `true` als de input groter is dan 5 en anders\n",
    "`false`. Kijken we naar:"
   ]
  },
  {
   "cell_type": "code",
   "execution_count": 17,
   "id": "19984b5a-238d-47b3-8599-d0bd1abaa3c8",
   "metadata": {},
   "outputs": [
    {
     "name": "stdout",
     "output_type": "stream",
     "text": [
      "[\u001b[95m6\u001b[0m,\u001b[95m7\u001b[0m,\u001b[95m8\u001b[0m,\u001b[95m9\u001b[0m,\u001b[95m10\u001b[0m,\u001b[95m11\u001b[0m,\u001b[95m12\u001b[0m,\u001b[95m13\u001b[0m,\u001b[95m14\u001b[0m,\u001b[95m15\u001b[0m,\u001b[95m16\u001b[0m,\u001b[95m17\u001b[0m,\u001b[95m18\u001b[0m,\u001b[95m19\u001b[0m,\u001b[95m20\u001b[0m,\u001b[95m21\u001b[0m,\u001b[95m22\u001b[0m,\u001b[95m23\u001b[0m,\u001b[95m24\u001b[0m,\u001b[95m25\u001b[0m,\u001b[95m26\u001b[0m,\u001b[95m27\u001b[0m,\u001b[95m28\u001b[0m,\u001b[95m29\u001b[0m,\u001b[95m30\u001b[0m]\u001b[90m\n",
      "    : List Int\u001b[0m\n"
     ]
    }
   ],
   "source": [
    "List.filter ( \\x -> x > 5) (List.range 1 30)"
   ]
  },
  {
   "cell_type": "markdown",
   "id": "eaed2138-b757-44b8-90ce-b29b8bd41ac3",
   "metadata": {},
   "source": [
    "dan wordt er dus een list opgebouwd uit die elementen uit de range 1 tot en\n",
    "met 30 die groter zijn dan 5."
   ]
  },
  {
   "cell_type": "markdown",
   "id": "cdd0272b-dd6e-4856-8d65-b0d93c62ac36",
   "metadata": {},
   "source": [
    "** Een uitdaging: Even, Oneven en Deling**\n",
    "\n",
    "Een voorbeeld: stel we willen alle oneven getallen van 1 tot 1000 opsommen. Een manier om dit te doen is de `list` te nemen van getallen van 1 tot 1000 en dan te filteren of een getal even of oneven is.\n",
    "Om te kijken of een getal even of oneven is delen we het door 2 (deling van gehele getallen, dat wil zeggen geen komma-getallen).\n",
    "\n",
    "In de informatica bestaan er 2 soorten deling: de `gewone deling` zoals je deze meestal tegenkomt (met breuken of kommagetallen; alsof je pizza's verdeelt) en de `integer deling` (alleen gehele getallen; alsof je snoepjes verdeelt):\n",
    "\n",
    "Als je 13 pizza's verdeelt over 3 mensen (zullen wel kleine pizzaatjes zijn...) krijgt ieder 4 (hele) pizza's en ook nog 1/3 pizza. In Elm heet dit een `floating point division` en je gebruikt er de deelstreep `/` voor: `13 / 3`.\n",
    "\n",
    "Als je daarentegen 13 snoepjes hebt en ze over 3 mensen eerlijk verdeelt krijgt ieder 4 snoepjes en heb je als het goed is nog 1 snoepje over (de `rest`, ook wel `modulo` genoemd). In Elm heet dit een `integer division`. Hoeveel snoepjes elk heeft kun je berekenen met `13 // 3` en hoeveel snoepjes er overblijven bereken je met `modBy 13 3`.\n",
    "\n",
    "Om te weten of een getal `even` is (deelbaar door `2`) of `oneven` is kun je een `integer deling` door `2` doen en kijken of er `0` uitkomt, in `elm`:\n",
    "\n",
    "`\\x -> ( modBy x 2 == 0 )`\n",
    "\n",
    "Als we deze functie toepassen op een oneven getal moet er `False` uitkomen en anders `True`:  "
   ]
  },
  {
   "cell_type": "code",
   "execution_count": 18,
   "id": "029e3921-8a69-42ff-92eb-2c56f5887d64",
   "metadata": {},
   "outputs": [
    {
     "name": "stdout",
     "output_type": "stream",
     "text": [
      "\u001b[96mFalse\u001b[0m\u001b[90m : Bool\u001b[0m\n"
     ]
    }
   ],
   "source": [
    "( \\x -> ( modBy x 2 == 0 ) ) 15"
   ]
  },
  {
   "cell_type": "code",
   "execution_count": 19,
   "id": "1605d7d6-24a5-43fe-92d2-42e0bf132c42",
   "metadata": {},
   "outputs": [
    {
     "name": "stdout",
     "output_type": "stream",
     "text": [
      "\u001b[96mFalse\u001b[0m\u001b[90m : Bool\u001b[0m\n"
     ]
    }
   ],
   "source": [
    "( \\x -> ( modBy x 2 == 0 ) ) 14"
   ]
  },
  {
   "cell_type": "markdown",
   "id": "811ec758-4341-4572-b37b-1caaef057db0",
   "metadata": {},
   "source": [
    "```elm\n",
    "\n",
    "```\n",
    "\n",
    "Voor het uitproberen van dit stukje code is dit een prima manier om te noteren, maar voor de leesbaarheid (en dus onderhoudbaarheid) van een programma is het goed er een duidelijke naam aan te geven (dus in plaats van de `anonymous functie` gaan we nu een `named function` programmeren):  "
   ]
  },
  {
   "cell_type": "code",
   "execution_count": 20,
   "id": "5ce9f366-724a-4b49-b168-b0b56ac4a192",
   "metadata": {},
   "outputs": [
    {
     "name": "stdout",
     "output_type": "stream",
     "text": [
      "\u001b[36m<function>\u001b[0m\u001b[90m : Int -> Bool\u001b[0m\n"
     ]
    }
   ],
   "source": [
    "isEven x = modBy x 2 == 0"
   ]
  },
  {
   "cell_type": "markdown",
   "id": "81b7e0e4-59d2-4e7d-af74-b7d73c2ca12d",
   "metadata": {},
   "source": [
    "Waarna we het wat cryptische `(\\x -> ( modBy x 2 == 0 )) 15` van hierboven kunnen versimpelen tot:"
   ]
  },
  {
   "cell_type": "code",
   "execution_count": 21,
   "id": "70b94989-f905-4fe1-b641-56806696a399",
   "metadata": {},
   "outputs": [
    {
     "name": "stdout",
     "output_type": "stream",
     "text": [
      "\u001b[96mFalse\u001b[0m\u001b[90m : Bool\u001b[0m\n"
     ]
    }
   ],
   "source": [
    "isEven 15"
   ]
  },
  {
   "cell_type": "markdown",
   "id": "390e96c6-b667-4cc7-9c63-da653f4c8ebb",
   "metadata": {},
   "source": [
    "Om het helemaal af te maken definiëren we ook nog een function om te kijken of een getal `oneven` (`odd` in het Engels) is. Er zijn 2 voor de hand liggende manieren: je zou bijvoorbeeld kunnen kijken of een integer deling door 2 juist 1 oplevert, dus iets als `isOdd x = ( x % 2 == 1 )`, maar eleganter is misschien wel door `function` `isOdd` te definiëren als:"
   ]
  },
  {
   "cell_type": "code",
   "execution_count": 22,
   "id": "278764b7-4d2a-4e79-9806-c81c9545ada3",
   "metadata": {},
   "outputs": [
    {
     "name": "stdout",
     "output_type": "stream",
     "text": [
      "\u001b[36m<function>\u001b[0m\u001b[90m : Int -> Bool\u001b[0m\n"
     ]
    }
   ],
   "source": [
    "isOdd x = not ( isEven x )"
   ]
  },
  {
   "cell_type": "markdown",
   "id": "bb5cf746-8884-4f9e-85e3-a464bd43ff07",
   "metadata": {},
   "source": [
    "ofwel: kijk of het getal `even` is en zet er `not` voor (`not True` geeft `False`, `not False` geeft `True`).\n",
    "\n",
    "Kijk of 15 een oneven getal is:"
   ]
  },
  {
   "cell_type": "code",
   "execution_count": 23,
   "id": "b42fe865-122b-478b-90b1-d998c0bd7927",
   "metadata": {},
   "outputs": [
    {
     "name": "stdout",
     "output_type": "stream",
     "text": [
      "\u001b[96mTrue\u001b[0m\u001b[90m : Bool\u001b[0m\n"
     ]
    }
   ],
   "source": [
    "isOdd 15"
   ]
  },
  {
   "cell_type": "markdown",
   "id": "15c84b43-ea03-49f9-8977-33fcba1df3af",
   "metadata": {},
   "source": [
    "en 42?\n",
    "en 83?\n",
    "Komt eruit wat je verwacht?"
   ]
  },
  {
   "cell_type": "code",
   "execution_count": null,
   "id": "3969f09c-0ce0-4180-966e-15a0efaafe64",
   "metadata": {},
   "outputs": [],
   "source": []
  },
  {
   "cell_type": "code",
   "execution_count": null,
   "id": "515b1575-d136-4ef4-b780-67a3ae775652",
   "metadata": {},
   "outputs": [],
   "source": []
  },
  {
   "cell_type": "markdown",
   "id": "a023f2cc-948d-4782-8f04-ca3b43cced3b",
   "metadata": {},
   "source": [
    "```elm\n",
    "\n",
    "```\n",
    "\n",
    "\n",
    "```elm\n",
    "\n",
    "```\n",
    "\n",
    "Terug naar de uitdaging: We wilden alle oneven getallen van 1 tot 1000 opsommen. We laten nu alle getallen van 1 tot 1000 opsommen en gebruiken dan `List.filter` om de even getallen er uit te filteren zodat alleen de oneven getallen overblijven:  "
   ]
  },
  {
   "cell_type": "markdown",
   "id": "1fd1edfb-7f4e-4ac4-9e25-d0bcfbe2b43d",
   "metadata": {},
   "source": [
    "List.filter isOdd ( List.range 1 1000 )"
   ]
  },
  {
   "cell_type": "markdown",
   "id": "5265b4ca-e6de-4396-b749-76beeabaffab",
   "metadata": {},
   "source": [
    "**Probeer zelf:**\n",
    "\n",
    "Hoe krijg ik met behulp van List.map en/of List.filter van de getallen van 1\n",
    "tot en met 60 die kwadraten die groter zijn dan 28?"
   ]
  },
  {
   "cell_type": "code",
   "execution_count": null,
   "id": "dccae147-925e-49a4-8204-d02639494f0f",
   "metadata": {},
   "outputs": [],
   "source": []
  },
  {
   "cell_type": "markdown",
   "id": "75d59184-8c0e-423f-918f-ea0ee62bbdf6",
   "metadata": {},
   "source": [
    "```elm\n",
    "\n",
    "```\n",
    "\n",
    "## List.foldl\n",
    "\n",
    "Na de map en filter, die vrij intuïtief zijn als je ze een keer gezien hebt, komen\n",
    "we bij de ’fold’. Deze komt voor als ’foldl’ en ’foldr’, misschien kun je al vermoeden\n",
    "waar ’l’ en ’r’ voor staan?\n",
    "\n",
    "We beginnen met een voorbeeld: Stel we willen weten hoeveel de getallen\n",
    "van 1 tot en met 100 bij elkaar opgeteld zijn, dus\n",
    "\n",
    "1 + 2 + 3 + 4 + 5 + ... + 99 + 100\n",
    "\n",
    "Denk hier eerst een minuutje over na voor je verder leest. Als je wilt kun je het hier uitproberen:"
   ]
  },
  {
   "cell_type": "code",
   "execution_count": null,
   "id": "85f0a4b4-8c77-4d94-ad84-f547263d7618",
   "metadata": {},
   "outputs": [],
   "source": []
  },
  {
   "cell_type": "markdown",
   "id": "cfa94141-775d-409a-88fa-1398f40c6974",
   "metadata": {},
   "source": [
    "```elm\n",
    "\n",
    "```\n",
    "\n",
    "We hebben al gezien dat we met (List.range 1 100) (een list met) de\n",
    "getallen 1 tot en met 100 krijgen. Hoe krijgen we alle elementen uit de list\n",
    "opgeteld? We doorlopen de lijst: elk element wordt bij het tussenresultaat\n",
    "opgeteld. Dit lijkt wat op map, omdat op elk element van de list een berekening\n",
    "wordt uitgevoerd, echter wordt de uitvoer/resultaat van de ene berekening gebruikt als invoer voor de volgende berekening.\n",
    "Die berekening wordt geformuleerd als een functie:"
   ]
  },
  {
   "cell_type": "code",
   "execution_count": 24,
   "id": "52b6d2f1-9d07-4d1a-a510-b05b58fa24a7",
   "metadata": {},
   "outputs": [
    {
     "name": "stdout",
     "output_type": "stream",
     "text": [
      "\u001b[36m<function>\u001b[0m\u001b[90m : number -> number -> number\u001b[0m\n"
     ]
    }
   ],
   "source": [
    "\\x -> (\\y -> x+y)"
   ]
  },
  {
   "cell_type": "markdown",
   "id": "2e8c1df6-150c-464a-83f4-050ffa0809ae",
   "metadata": {},
   "source": [
    "```elm\n",
    "\n",
    "```\n",
    "\n",
    "Aj, dat ziet er lastig uit...!? Valt mee als we het stapje voor stapje bekijken.\n",
    "Het is een functie die als input een ’x’ verwacht. Dat is het element van de\n",
    "list. Bij de eerste aanroep is dat dus 1, 2e aanroep een 2, 3e aanroep een 3 en\n",
    "zo door. Deze functie geeft een andere functie terug:\n",
    "\n",
    "( \\y -> x+y )\n",
    "\n",
    "een functie die een ’y’ ontvangt (het tussenresultaat, de optelling tot nu\n",
    "toe) en een nieuw tussenresultaat berekent: in dit geval door bij het vorige\n",
    "tussenresultaat de waarde van het huidige list-element op te tellen. Elm\n",
    "zorgt ervoor dat het nieuwe tussenresultaat bij het volgende list-element\n",
    "gebruikt wordt zodat we op het einde van de list alle elementen opgeteld\n",
    "hebben!\n",
    "\n",
    "We zijn er bijna! We moeten namelijk nog aangeven dat we bij het eerste\n",
    "element willen beginnen met tussenresultaat 0!\n",
    "\n",
    "Als we dit samenvoegen krijgen we:"
   ]
  },
  {
   "cell_type": "code",
   "execution_count": 25,
   "id": "c33b86a5-d214-4aaa-a214-393683bb5c64",
   "metadata": {},
   "outputs": [
    {
     "name": "stdout",
     "output_type": "stream",
     "text": [
      "\u001b[95m5050\u001b[0m\u001b[90m : Int\u001b[0m\n"
     ]
    }
   ],
   "source": [
    "List.foldl ( \\x -> (\\y -> x + y )) 0 (List.range 1 100)"
   ]
  },
  {
   "cell_type": "markdown",
   "id": "59671ac8-28e2-4f84-a9b4-814b80f22174",
   "metadata": {},
   "source": [
    "Je ziet dat ’foldl’ als eerste parameter de ’berekeningsfunctie’ ontvangt, als\n",
    "tweede de initiële waarde en tot slot de list waarop de berekening moet worden\n",
    "toegepast.\n",
    "\n",
    "We kunnen een functie ’telAllesOp’ definiëren die een list accepteert en alle\n",
    "waarden optelt:"
   ]
  },
  {
   "cell_type": "code",
   "execution_count": 26,
   "id": "2532598a-c955-401e-a2a2-18abb8021df3",
   "metadata": {},
   "outputs": [
    {
     "name": "stdout",
     "output_type": "stream",
     "text": [
      "\u001b[36m<function>\u001b[0m\u001b[90m : List number -> number\u001b[0m\n"
     ]
    }
   ],
   "source": [
    "telAllesOp = List.foldl ( \\x -> (\\y -> x + y )) 0"
   ]
  },
  {
   "cell_type": "markdown",
   "id": "ddbf1db2-0481-4de4-83b1-b655bd240e57",
   "metadata": {},
   "source": [
    "Het is daarna mogelijk om van een list alle elementen op te tellen met"
   ]
  },
  {
   "cell_type": "code",
   "execution_count": 27,
   "id": "62fdee17-4759-42e8-9993-fc2fbd90642f",
   "metadata": {},
   "outputs": [
    {
     "name": "stdout",
     "output_type": "stream",
     "text": [
      "\u001b[95m4650\u001b[0m\u001b[90m : number\u001b[0m\n"
     ]
    }
   ],
   "source": [
    "telAllesOp [42,512,4096]"
   ]
  },
  {
   "cell_type": "markdown",
   "id": "225db803-7f31-414c-9664-420bc7d4802f",
   "metadata": {},
   "source": [
    "### Uitdaging\n",
    "\n",
    "Definieer nu zelf aan de hand van het voorafgaande met behulp van folding\n",
    "een functie die alle elementen van een list kwadrateert en die kwadraten dan bij elkaar optelt. Test deze met de\n",
    "korte lijsten [3,4] en [5,12] (doen die je ergens aan denken? misschien als\n",
    "je goed naar de resultaten kijkt: 25 en 169).\n",
    "\n",
    "Definieer hier je functie:"
   ]
  },
  {
   "cell_type": "code",
   "execution_count": null,
   "id": "87441dd7-3afb-487e-98b1-3bc25cdbb447",
   "metadata": {},
   "outputs": [],
   "source": []
  },
  {
   "cell_type": "markdown",
   "id": "25a7259c-2577-4160-8e7e-0e8e5828296b",
   "metadata": {},
   "source": [
    "```elm\n",
    "\n",
    "```"
   ]
  },
  {
   "cell_type": "markdown",
   "id": "344d2ae3-e05b-4042-b518-974039ff7daf",
   "metadata": {},
   "source": [
    "en test deze met [3,4] en [5,12]:"
   ]
  },
  {
   "cell_type": "code",
   "execution_count": null,
   "id": "bc58fb84-41c8-436a-b081-fb74d89414a8",
   "metadata": {},
   "outputs": [],
   "source": []
  },
  {
   "cell_type": "code",
   "execution_count": null,
   "id": "e9c32f85-e28b-4612-a94f-977209d41348",
   "metadata": {},
   "outputs": [],
   "source": []
  },
  {
   "cell_type": "markdown",
   "id": "23fc54db-60c1-494d-ae6e-7de13390b341",
   "metadata": {},
   "source": [
    "```elm\n",
    "\n",
    "```"
   ]
  },
  {
   "cell_type": "markdown",
   "id": "ddadbda6-c08b-4342-a53d-a05334dc2304",
   "metadata": {},
   "source": [
    "```elm\n",
    "\n",
    "```"
   ]
  },
  {
   "cell_type": "markdown",
   "id": "54fb29f5-902b-471a-8887-d45518ed4757",
   "metadata": {},
   "source": [
    "## List.foldr\n",
    "\n",
    "Je had wellicht al bedacht dat ’l’ en ’r’ voor links en rechts staan. Als je het in\n",
    "eerdergebruikt voorbeeld ’foldl’ vervangt door ’foldr’:"
   ]
  },
  {
   "cell_type": "code",
   "execution_count": 28,
   "id": "2cdcad71-6234-4a30-a1bd-caacae7ea5fd",
   "metadata": {},
   "outputs": [
    {
     "name": "stdout",
     "output_type": "stream",
     "text": [
      "\u001b[95m5050\u001b[0m\u001b[90m : Int\u001b[0m\n"
     ]
    }
   ],
   "source": [
    "List.foldr ( \\x -> (\\y -> x + y )) 0 (List.range 1 100)"
   ]
  },
  {
   "cell_type": "markdown",
   "id": "3d59fd09-285c-4caa-a106-d0184be5258f",
   "metadata": {},
   "source": [
    "Krijg je dan een ander resultaat? Snap je waarom?\n",
    "\n",
    "Vergelijk ook de twee regels:"
   ]
  },
  {
   "cell_type": "code",
   "execution_count": 29,
   "id": "37ab1478-c83d-4ab0-a60d-471ea449fe14",
   "metadata": {},
   "outputs": [
    {
     "name": "stdout",
     "output_type": "stream",
     "text": [
      "\u001b[93m\"abcX\"\u001b[0m\u001b[90m : String\u001b[0m\n"
     ]
    }
   ],
   "source": [
    "List.foldr ( \\x -> (\\y -> x ++ y )) \"X\" [ \"a\", \"b\", \"c\" ]"
   ]
  },
  {
   "cell_type": "code",
   "execution_count": 30,
   "id": "99665633-b35b-4eea-8fab-bd0c3338f1ad",
   "metadata": {},
   "outputs": [
    {
     "name": "stdout",
     "output_type": "stream",
     "text": [
      "\u001b[93m\"cbaX\"\u001b[0m\u001b[90m : String\u001b[0m\n"
     ]
    }
   ],
   "source": [
    "List.foldl ( \\x -> (\\y -> x ++ y )) \"X\" [ \"a\", \"b\", \"c\" ]"
   ]
  },
  {
   "cell_type": "markdown",
   "id": "c4f0ec75-080c-49b4-8052-6d9ce2b89dcb",
   "metadata": {},
   "source": [
    "Hier is het verschil heel duidelijk te zien."
   ]
  },
  {
   "cell_type": "markdown",
   "id": "f2b78a30-5e13-4778-ac87-38d89e4d0164",
   "metadata": {
    "tags": []
   },
   "source": [
    "### Mogelijke challenge: Binomium\n",
    "\n",
    "Misschien heb je wel eens gehoord van het binomium van Newton:\n",
    "\n",
    "![binomium](images/binomium.png)\n",
    "\n",
    "Het begint met het getal 1, daaronder komen rijen met steeds\n",
    "links én rechts een 1. De andere getallen zijn steeds de 2 getallen er schuin\n",
    "boven opgeteld. Misschien heb je wel eens een knikkerbaan gezien met spijkertjes\n",
    "hetzelfde patroon:\n",
    "\n",
    "Het getal dat in het binomium staat is gelijk aan het aantal ’wegen’ dat naar\n",
    "een spijkertje leidt: een knikker die er van bovenaf in rolt kan steeds links\n",
    "of rechts af. Het is bijvoorbeeld op 4 manieren mogelijk om bij een plek te\n",
    "komen waar een 4 staat.\n",
    "\n",
    "Van _aantal wegen_ is het een redelijk kleine stap naar de 'kans’ dat de knikker\n",
    "op een bepaalde plek terecht komt. De getallen komen op veel plekken terug.\n",
    "\n",
    "Het is best wel een challenge/uitdaging om een functie te schrijven die de i-de regel van het binomium oplevert!"
   ]
  },
  {
   "cell_type": "code",
   "execution_count": null,
   "id": "35b30de4-2721-4820-8d60-f6df39f44b18",
   "metadata": {},
   "outputs": [],
   "source": []
  }
 ],
 "metadata": {
  "kernelspec": {
   "display_name": "Elm Repl",
   "language": "elm",
   "name": "elmreplkernel"
  },
  "language_info": {
   "codemirror_mode": "elm",
   "file_extension": ".elm",
   "mimetype": "text/x-elm",
   "name": "elm"
  }
 },
 "nbformat": 4,
 "nbformat_minor": 5
}
