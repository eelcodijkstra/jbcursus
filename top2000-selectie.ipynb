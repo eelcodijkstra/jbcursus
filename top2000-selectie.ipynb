{
 "cells": [
  {
   "cell_type": "markdown",
   "id": "cedfca58-4bab-4170-8935-1a6de4ce5043",
   "metadata": {},
   "source": [
    "# Selectie en projectie"
   ]
  },
  {
   "cell_type": "markdown",
   "id": "73646474-497e-4627-901e-0bcbd941d199",
   "metadata": {},
   "source": [
    "Als je het antwoord op een informatievraag zoekt in een database, dan moet je uit de gegevens in die database precies die elementen zien te vinden die antwoord geven op je vraag.\n",
    "Dit doe je met behulp van een database *query* (zoekvraag).\n",
    "\n",
    "Voor relationele databases gebruik je hiervoor de query-taal SQL (Structured Query Language).\n",
    "Een relationele database bestaat uit een aantal tabellen die onderling naar elkaar kunnen verwijzen.\n",
    "Een tabel bestaat uit rijen en kolommen.\n",
    "De eerste stap bij het zoeken is de *selectie van de juiste rijen*; daarvan geef je alleen de kolommen weer die je nodig hebt voor het resultaat (*projectie*)."
   ]
  },
  {
   "cell_type": "markdown",
   "id": "0e077663-7000-4ea4-b96e-bbb83b61119f",
   "metadata": {},
   "source": [
    "![image](images/tabel-fig.png)"
   ]
  },
  {
   "cell_type": "markdown",
   "id": "2f2a4208-dbc2-4a9a-85db-d3cce4277807",
   "metadata": {},
   "source": [
    "Als voorbeeld-tabel gebruiken we de Top2000 van de laatste jaren.\n",
    "Deze database bestaat uit één tabel."
   ]
  },
  {
   "cell_type": "markdown",
   "id": "57e034d0-539a-4ed6-a6d7-def788bef0f3",
   "metadata": {},
   "source": [
    "## Maak verbinding met de database\n",
    "\n",
    "De eerste stap is om verbinding te maken met de database.\n",
    "\n",
    "**Als je Basthon gebruikt.** Laad het notebook tegelijk met de database (door het gebruik van de juiste URL).\n",
    "Je kunt de database ook later laden via het \"File\" menu. \n",
    "Zorg ervoor dat de database gekoppeld is vóór het uitvoeren van de SQL-opdrachten.\n",
    "\n",
    "**Als je Jupyter Notebook gebruikt.** In dat geval heb je onderstaande opdracht nodig."
   ]
  },
  {
   "cell_type": "code",
   "execution_count": null,
   "id": "30ed95eb-4ef2-445d-afd8-639dd108880c",
   "metadata": {},
   "outputs": [],
   "source": [
    "%LOAD data/top2000.db"
   ]
  },
  {
   "cell_type": "markdown",
   "id": "bd5fd9dc-b20a-4875-b55a-898758d343eb",
   "metadata": {},
   "source": [
    "## Verken de tabel\n",
    "\n",
    "Met de volgende *query* verken je een klein stukje van de top2000-tabel.\n",
    "\n",
    "Voor de cel hieronder uit door deze te selecteren (klik in de cel); geef vervolgens Shift-Enter in, of klik op het \"run\" driehoekje bovenin."
   ]
  },
  {
   "cell_type": "code",
   "execution_count": null,
   "id": "8687f13b-bec5-4aee-810c-568d7d255afe",
   "metadata": {},
   "outputs": [],
   "source": [
    "SELECT *\n",
    "FROM top2000\n",
    "LIMIT 5;"
   ]
  },
  {
   "cell_type": "markdown",
   "id": "32112db6-b8d8-4682-9bc9-a2b62a446d74",
   "metadata": {},
   "source": [
    "De `SELECT` opdracht heeft de volgende basisstructuur:\n",
    "\n",
    "```SQL\n",
    "  SELECT <kolommen>\n",
    "  FROM  <invoer-tabel(len)>\n",
    "  WHERE <rij-voorwaarde>\n",
    "  ORDER BY <kolommen> [ASC|DESC]\n",
    "  LIMIT <aantal rijen>;\n",
    "```"
   ]
  },
  {
   "cell_type": "markdown",
   "id": "09c29571-51c5-4165-9ed9-a76813fb80e8",
   "metadata": {},
   "source": [
    "**Uitleg.** In het voorbeeld hierboven is het `WHERE`-deel weggelaten. Dat betekent dat de rij-voorwaarde `TRUE` is: *alle rijen* worden geselecteerd.\n",
    "Op eenzelfde manier geeft de `*` achter `SELECT` aan dat het resultaat *alle kolommen* bevat.\n",
    "\n",
    "De meeste onderdelen in de `SELECT` opdracht kun je weglaten, behalve `SELECT` en `FROM`.\n",
    "\n",
    "Het `LIMIT`-deel beperkt het aantal rijen in het resultaat. Zowel de `*` als de `LIMIT` gebruik je vaak bij het verkennen van een database.\n",
    "\n",
    "**Let op:** Een SQL-opdracht sluit je altijd af met een `;`"
   ]
  },
  {
   "cell_type": "markdown",
   "id": "a8ed3483-4f2c-4d8f-8ba3-2993fd11073c",
   "metadata": {},
   "source": [
    "**Opdracht.** Pas het aantal in het `LIMIT` deel aan, en voer de query opnieuw uit."
   ]
  },
  {
   "cell_type": "markdown",
   "id": "82efc191-eb71-49f0-8d1b-75c6c9c6957a",
   "metadata": {},
   "source": [
    "Het `ORDER BY` deel kun je de volgorde van de rijen in het resultaat bepalen; zonder sortering krijg je de volgorde van de rijen in de oorspronkelijke tabel. De resultaat-volgorde kan opklimmend zijn (`ASC`) of dalend (`DESC`). Voorbeeld:"
   ]
  },
  {
   "cell_type": "code",
   "execution_count": null,
   "id": "15435d22-5845-4e60-b144-cb8bb01d2e02",
   "metadata": {},
   "outputs": [],
   "source": [
    "SELECT *\n",
    "FROM top2000\n",
    "ORDER BY positie DESC\n",
    "LIMIT 5;"
   ]
  },
  {
   "cell_type": "markdown",
   "id": "7248a9cb-6c74-46f9-a167-886cd433d0ea",
   "metadata": {},
   "source": [
    "**Opdracht.** Pas deze query aan zodat deze de laagste noteringen weergeeft, in plaats van de hoogste."
   ]
  },
  {
   "cell_type": "markdown",
   "id": "2be4423d-13c0-4225-95f1-2babe4920f3d",
   "metadata": {},
   "source": [
    "## Projectie van kolommen\n",
    "\n",
    "Uit de bovenstaande opdracht heb je geleerd wat de *namen van de kolommen* zijn in de Top2000-tabel.\n",
    "Dit kun je gebruiken om de kolommen in het resultaat te beperken tot die kolommen die je echt nodig hebt, zie het voorbeeld hieronder.\n",
    "\n",
    "In de eerste regel, na `SELECT`, geef je aan welke kolommen in het resultaat voorkomen, en in welke volgorde. Dit noemen we ook wel **projectie**."
   ]
  },
  {
   "cell_type": "code",
   "execution_count": null,
   "id": "a71e0e6c-df2e-49ff-aa87-62b1a405bef3",
   "metadata": {},
   "outputs": [],
   "source": [
    "SELECT top, positie, titel\n",
    "FROM top2000\n",
    "LIMIT 5;"
   ]
  },
  {
   "cell_type": "markdown",
   "id": "fbe2bd38-00d1-44db-b31b-a1d37d86b96c",
   "metadata": {},
   "source": [
    "**Opdracht** Pas de code hierboven aan: kies een andere combinatie van de kolommen voor het resultaat. Verander ook eens de volgorde van de kolommen; of geef de naam van een kolom tweemaal op."
   ]
  },
  {
   "cell_type": "markdown",
   "id": "48182750-52be-4acc-aadc-5dc89c315d7c",
   "metadata": {},
   "source": [
    "**Vraag.** Heb je ook een idee van de *type*s van de kolommen? Welke kolommen bevatten getallen? Welke kolommen bevatten strings (tekenrijen)?"
   ]
  },
  {
   "cell_type": "markdown",
   "id": "153b726b-af6a-4786-8775-cf0897e07e75",
   "metadata": {},
   "source": [
    "## Selectie van rijen\n",
    "\n",
    "Je gebruik het `WHERE`-deel om op te geven welke *rijen* je in het resultaat wilt zien.\n",
    "Alleen die rijen waarvoor de `WHERE`-voorwaarde `TRUE` is maken deel uit van het resultaat.\n",
    "\n",
    "Voorbeeld:"
   ]
  },
  {
   "cell_type": "code",
   "execution_count": null,
   "id": "30161458-49bf-4943-a2a0-9b787de2b86c",
   "metadata": {},
   "outputs": [],
   "source": [
    "SELECT *\n",
    "FROM top2000\n",
    "WHERE artiest = 'Queen'\n",
    "LIMIT 5;"
   ]
  },
  {
   "cell_type": "markdown",
   "id": "288781f8-dcf6-4567-b01d-b75665810508",
   "metadata": {},
   "source": [
    "**Uitleg.** Alleen die rijen waarvan de `artiest`-kolom de waarde `'Queen'` heeft maken deel uit van het resultaat. Merk op dat we een string-waarde in SQL tussen `'...'` weergeven."
   ]
  },
  {
   "cell_type": "markdown",
   "id": "8e8d3de3-d402-4f1c-add7-08204764b53d",
   "metadata": {},
   "source": [
    "**Opdracht.** Maak een selectie van de rijen van een andere artiest."
   ]
  },
  {
   "cell_type": "markdown",
   "id": "b0b214f4-df83-4cf1-b11a-ec4e92594777",
   "metadata": {},
   "source": [
    "**Andere operatoren.** De selectie-voorwaarde kan ook andere vergelijkingsoperatoren bevatten, zoals `<` of `<=` of `>` of `>=` of `!=` (ongelijk). Voorbeeld:"
   ]
  },
  {
   "cell_type": "code",
   "execution_count": null,
   "id": "366a3ca4-6336-4779-ba9c-62f508fc6937",
   "metadata": {},
   "outputs": [],
   "source": [
    "SELECT *\n",
    "FROM top2000\n",
    "WHERE jaar < 1970\n",
    "LIMIT 5;"
   ]
  },
  {
   "cell_type": "markdown",
   "id": "e98fbf89-a0bc-4647-b699-5434dada364b",
   "metadata": {},
   "source": [
    "**LIKE met Jokers (wildcards)**. Soms weet je niet hoe een naam (string) precies gespeld is.\n",
    "In dat geval kun je de `LIKE` operator gebruiken.\n",
    "In `LIKE '_an%Berg'` staat de `_` voor een willekeurig teken en `%` voor een willekeurige rij tekens (0 of meer).\n",
    "Dit past bijvoorbeeld op `'Van den Berg'`, `van de Berg`, of `van Berg`.\n",
    "\n",
    "> Deze tekens komt overeen met de \"wildcard\" tekens `?` en `*` in bijvoorbeeld de Unix/Linux shell."
   ]
  },
  {
   "cell_type": "code",
   "execution_count": null,
   "id": "58c64c17-0f11-438f-bbc3-d6dc31d2c89c",
   "metadata": {},
   "outputs": [],
   "source": [
    "SELECT *\n",
    "FROM top2000\n",
    "WHERE jaar = 1970 and artiest LIKE '%Beatles';"
   ]
  },
  {
   "cell_type": "markdown",
   "id": "c8e9edff-d0be-4be1-b921-5e197af74ae2",
   "metadata": {},
   "source": [
    "Je ziet aan dit resultaat dat de namen van de artiesten niet altijd op dezelfde manier geschreven zijn. Datzelfde geldt overigens ook voor de titels van de nummers. Dat maakt het lastig om met de data te werken! Later zullen we proberen om deze data meer uniform te maken."
   ]
  },
  {
   "cell_type": "markdown",
   "id": "3eb495b8-7017-4ad0-8cc1-9365ba07a5c6",
   "metadata": {},
   "source": [
    "**Samengestelde voorwaarde.** Een selectie-voorwaarde (`WHERE`-voorwaarde) kan ook samengesteld zijn, met behulp van logische `AND` en `OF` operatoren.\n",
    "Voorbeeld:"
   ]
  },
  {
   "cell_type": "code",
   "execution_count": null,
   "id": "1aea5c2d-46d9-4df0-91a2-33f3ad9ee9a1",
   "metadata": {},
   "outputs": [],
   "source": [
    "SELECT *\n",
    "FROM top2000\n",
    "WHERE positie < 30 AND jaar < 1970;"
   ]
  },
  {
   "cell_type": "markdown",
   "id": "b7c69712-736e-4fd3-b02e-ce23627258bb",
   "metadata": {},
   "source": [
    "### DISTINCT: unieke rijen\n",
    "\n",
    "Bekijk het resultaat van de volgende opdracht:"
   ]
  },
  {
   "cell_type": "code",
   "execution_count": null,
   "id": "49dfd734-1ccb-400d-ad1e-84859fb502e6",
   "metadata": {},
   "outputs": [],
   "source": [
    "SELECT titel, jaar\n",
    "FROM top2000\n",
    "WHERE positie < 30 and jaar <1970;"
   ]
  },
  {
   "cell_type": "markdown",
   "id": "b11af6bd-3dc2-4157-929c-270c3753de0b",
   "metadata": {},
   "source": [
    "Dit resultaat bevat eigenlijk 2 rijen, die beide meerdere keren voorkomen.\n",
    "Met behulp van `SELECT DISTINCT` vermijd je die dubbele voorkomens van eenzelfde rij:"
   ]
  },
  {
   "cell_type": "code",
   "execution_count": null,
   "id": "50dc0339-8175-4864-9f00-ac53bd86afcc",
   "metadata": {},
   "outputs": [],
   "source": [
    "SELECT DISTINCT titel, jaar\n",
    "FROM top2000\n",
    "WHERE positie < 30 AND jaar < 1970;"
   ]
  },
  {
   "cell_type": "markdown",
   "id": "704c5135-8c6e-4241-8d07-cff09f893bfb",
   "metadata": {},
   "source": [
    "**Vraag.** In de oorspronkelijke tabel komen geen dubbele rijen voor. Waardoor krijg je die dubbele voorkomens in het vorige resultaat?"
   ]
  },
  {
   "cell_type": "markdown",
   "id": "0cef296c-c956-49aa-9295-7801076a8548",
   "metadata": {},
   "source": [
    "**Tip.** `SELECT DISTINCT` is bijvoorbeeld handig als je wilt weten welke waarden in een tabel voorkomen. Bijvoorbeeld:"
   ]
  },
  {
   "cell_type": "code",
   "execution_count": null,
   "id": "59f86a80-2dc4-4227-b0d4-73a06b2170d2",
   "metadata": {},
   "outputs": [],
   "source": [
    "SELECT DISTINCT top\n",
    "FROM top2000;"
   ]
  },
  {
   "cell_type": "markdown",
   "id": "87d2247b-48ea-4f69-add2-00e6644b1d59",
   "metadata": {},
   "source": [
    "## Opmerkingen"
   ]
  },
  {
   "cell_type": "markdown",
   "id": "b8f516b2-986a-4386-ba5f-886df41afd26",
   "metadata": {},
   "source": [
    "**Kolomnamen.** We gebruiken hierboven een `SELECT`-opdracht met een enkele tabel.\n",
    "De kolomnamen die gebruikt worden in de selectie-voorwaarde en in de projectie moeten dan van die tabel afkomstig zijn.\n",
    "Als je meer tabellen hebt in het `FROM`-deel, bijvoorbeeld `nummers` en `artiesten`, dan gebruik je `nummers.titel` en `artiesten.naam` om precies aan te geven welke kolom je bedoelt. "
   ]
  },
  {
   "cell_type": "markdown",
   "id": "37d7fa1c-8e38-44a7-a905-b85a950f1c74",
   "metadata": {},
   "source": [
    "## Enkele voorbeelden"
   ]
  },
  {
   "cell_type": "markdown",
   "id": "4986d2e7-ba1b-42e3-8ae4-933b0197ec9d",
   "metadata": {},
   "source": [
    "Wat zijn de Top2000-nummers (alleen titel met artiest en jaartal) die gemaakt zijn voor 1957, gesorteerd op jaartal?"
   ]
  },
  {
   "cell_type": "code",
   "execution_count": null,
   "id": "1e66c911-f7ed-405c-a6c9-ceab3ebcf358",
   "metadata": {},
   "outputs": [],
   "source": [
    "SELECT titel, artiest, jaar\n",
    "FROM top2000\n",
    "WHERE jaar < 1957\n",
    "ORDER BY jaar, titel;"
   ]
  },
  {
   "cell_type": "markdown",
   "id": "7af23d4f-70c3-4944-9e87-9c42d1f6a5af",
   "metadata": {},
   "source": [
    "Zoals je ziet komen sommige nummers vaker voor. Je kunt dan tellen hoe vaak een bepaald nummer in de top2000 voorkomt; of bepalen welk nummer van voor 1960 het meest populair is.\n",
    "\n",
    "Als je wilt dat elk nummer maar één keer in het resultaat voorkomt, gebruik je `DISTINCT`:"
   ]
  },
  {
   "cell_type": "code",
   "execution_count": null,
   "id": "3f64839c-5130-4ec8-bd85-4979af8dc428",
   "metadata": {},
   "outputs": [],
   "source": [
    "SELECT DISTINCT titel, artiest, jaar\n",
    "FROM top2000\n",
    "WHERE jaar < 1957\n",
    "ORDER BY jaar;"
   ]
  }
 ],
 "metadata": {
  "kernelspec": {
   "display_name": "xsqlite",
   "language": "sqlite",
   "name": "xsqlite"
  },
  "language_info": {
   "codemirror_mode": "sql",
   "file_extension": "",
   "mimetype": "",
   "name": "sql",
   "version": "3.33.0"
  }
 },
 "nbformat": 4,
 "nbformat_minor": 5
}
