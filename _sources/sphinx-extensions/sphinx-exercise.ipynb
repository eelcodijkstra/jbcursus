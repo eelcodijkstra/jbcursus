{
 "cells": [
  {
   "cell_type": "markdown",
   "id": "012a2856-14b2-4aaf-87a0-c5ef325bcbbf",
   "metadata": {},
   "source": [
    "(sphinx-exercise)=\n",
    "# sphinx-exercise"
   ]
  },
  {
   "cell_type": "markdown",
   "id": "7684b5e5-e4d9-407b-be86-415f5a5b3004",
   "metadata": {},
   "source": [
    "De uitbreiding Sphinx-exercise maakt het mogelijk om opdrachten te formuleren en de uitwerkingen daarvan. Voor de officiële documentatie, zie: https://ebp-sphinx-exercise.readthedocs.io/en/latest/"
   ]
  },
  {
   "cell_type": "markdown",
   "id": "79af8680-22cf-46fd-a327-01321db5f50e",
   "metadata": {},
   "source": [
    "## Installatie en configuratie\n",
    "\n",
    "* zie voor de installatie op je eigen computer: https://ebp-sphinx-exercise.readthedocs.io/en/latest/\n",
    "* de uitbreiding is geïnstalleerd op de Jupyter Hub voor auteurs\n",
    "\n",
    "Instelling in `_config`:\n",
    "\n",
    "```\n",
    "sphinx:\n",
    "  extra_extensions:\n",
    "    - sphinx_exercise\n",
    "  config:\n",
    "    numfig_format:\n",
    "      exercise: \"Opdracht %s\"\n",
    "```\n",
    "\n",
    "De `numfig_format`-instelling zorgt voor de Nederlandse naam \"Opdracht\" in plaats van \"Exercise\"."
   ]
  },
  {
   "cell_type": "markdown",
   "id": "f6f68aad-f852-4b28-87d0-5b38e082b18e",
   "metadata": {},
   "source": [
    "## Syntax"
   ]
  },
  {
   "cell_type": "markdown",
   "id": "d448bb78-2fc8-4c46-9804-5a3958dac7db",
   "metadata": {},
   "source": [
    "Een opdracht heeft de vorm van een speciaal blok met een *verplichte titel*.\n",
    "Deze titel wordt ook gebruikt bij de verwijzing van de oplossing naar de opdracht.\n",
    "Als je later een uitwerking toe wilt voegen, geef je de opdracht een uniek label.\n",
    "\n",
    "```\n",
    ":::{exercise} titel van de opdracht\n",
    ":label: my-exercise-1234\n",
    "\n",
    "Omschrijving van de opdracht. Deze omschrijving kan ook figuren bevatten, en eventueel code blokken.\n",
    "\n",
    ":::\n",
    "```\n",
    "\n",
    "Dit geeft het volgende resultaat:"
   ]
  },
  {
   "cell_type": "markdown",
   "id": "459f4a8d-ac35-47fc-aa52-ab5d61f18167",
   "metadata": {},
   "source": [
    ":::{exercise} titel van de opdracht\n",
    ":label: my-exercise-1234\n",
    "\n",
    "Omschrijving van de opdracht. Deze omschrijving kan ook figuren bevatten, en eventueel code blokken.\n",
    "\n",
    ":::"
   ]
  },
  {
   "cell_type": "markdown",
   "id": "0dabc70f-b241-4a82-9387-50506c709b0c",
   "metadata": {},
   "source": [
    "De uitwerking kun je op een andere plek in het Jupyter Book maken. Deze bevat dan een verwijzing naar de oorspronkelijke opdracht.\n",
    "\n",
    "```\n",
    ":::{solution} my-exercise-1234\n",
    "\n",
    "Omschrijving van de uitwerking. Deze omschrijving kan ook figuren bevatten, en eventueel code blokken.\n",
    "\n",
    ":::\n",
    "```"
   ]
  },
  {
   "cell_type": "markdown",
   "id": "8f1bc0d7-a60c-413d-a3ab-cf56a49c0b29",
   "metadata": {},
   "source": [
    ":::{solution} my-exercise-1234\n",
    "\n",
    "Omschrijving van de uitwerking. Deze omschrijving kan ook figuren bevatten, en eventueel code blokken.\n",
    "\n",
    ":::"
   ]
  },
  {
   "cell_type": "markdown",
   "id": "d50c6540-8c77-438f-a52e-5a1595fd858f",
   "metadata": {},
   "source": [
    "## Opmerkingen"
   ]
  },
  {
   "cell_type": "markdown",
   "id": "da0ace76-bffd-4d2e-b2ca-bdb403ebfc7a",
   "metadata": {},
   "source": [
    "* opdrachten worden genummerd per hoofdstuk. Dat maakt het gemakkelijker om een hoofdstuk toe te voegen of weg te laten, bijvoorbeeld als je als docent het materiaal aanpast voor je eigen leerlingen.\n",
    "* "
   ]
  }
 ],
 "metadata": {
  "kernelspec": {
   "display_name": "Python 3 (ipykernel)",
   "language": "python",
   "name": "python3"
  },
  "language_info": {
   "codemirror_mode": {
    "name": "ipython",
    "version": 3
   },
   "file_extension": ".py",
   "mimetype": "text/x-python",
   "name": "python",
   "nbconvert_exporter": "python",
   "pygments_lexer": "ipython3",
   "version": "3.9.12"
  }
 },
 "nbformat": 4,
 "nbformat_minor": 5
}
