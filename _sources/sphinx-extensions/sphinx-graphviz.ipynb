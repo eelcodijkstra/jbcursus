{
 "cells": [
  {
   "cell_type": "markdown",
   "id": "e1d67ab8-6a7a-4081-a6c8-04da24eb67e2",
   "metadata": {},
   "source": [
    "# sphinx-graphviz"
   ]
  },
  {
   "cell_type": "markdown",
   "id": "2dce00e8-83b5-44cd-b053-a64b93423b15",
   "metadata": {},
   "source": [
    "Uitleg over de extensie `sphinx-graphviz`."
   ]
  },
  {
   "cell_type": "markdown",
   "id": "8835b9fe-4003-4824-9f44-4faaf303264f",
   "metadata": {},
   "source": [
    "Met Graphviz kun je diagrammen tekenen op basis van een tekst-gebaseerde beschrijving."
   ]
  },
  {
   "cell_type": "markdown",
   "id": "347c69cf-cb14-433c-bf54-4abd80bad03c",
   "metadata": {},
   "source": [
    "## Installatie en configuratie\n",
    "\n",
    "* om graphviz te kunnen gebruiken moet de bijbehorende software (\"dot\" enz.) op je computer geïnstalleerd zijn. \n",
    "    * zie: https://graphviz.org/download/\n",
    "    * op de Jupyter Hub voor auteurs is deze software al geïnstalleerd\n",
    "* om graphviz te gebruiken in Jupyter Book moet je deze als sphinx-extensie opgeven (in `_config`:\n",
    "\n",
    "```\n",
    "sphinx:\n",
    "  extra_extensions:\n",
    "    - sphinx_exercise\n",
    "    - sphinx.ext.graphviz\n",
    "  config: \n",
    "    language: nl  \n",
    "    graphviz_output_format: \"svg\"  \n",
    "```\n",
    "\n",
    "Het default output-formaat is PNG, maar SVG geeft een wat \"strakker\" resultaat."
   ]
  },
  {
   "cell_type": "markdown",
   "id": "7ec65db6-22e8-44d7-9351-5e3b283d37c0",
   "metadata": {},
   "source": [
    "## Documentatie\n",
    "\n",
    "* documentatie van de graphviz-software: https://graphviz.org\n",
    "* documentatie van de Sphinx-extensie: https://www.sphinx-doc.org/en/master/usage/extensions/graphviz.html\n",
    "* online-omgeving voor het testen van een diagram: http://magjac.com/graphviz-visual-editor/"
   ]
  },
  {
   "cell_type": "markdown",
   "id": "3c27f1dd-e81b-4e60-8931-ee5b4b9ff552",
   "metadata": {},
   "source": [
    "## Voorbeelden\n",
    "\n",
    "Met Graphviz kun je diagrammen tekenen op basis van een tekst-gebaseerde beschrijving.\n",
    "De volgende input (\"digraph\" staat voor *directed graph*):\n",
    "\n",
    "```\n",
    ":::{graphviz}\n",
    ":align: center\n",
    "digraph G {\n",
    "  rankdir=LR\n",
    "  node [shape=box, color=blue]\n",
    "  stap1 -> stap2 -> stap3\n",
    "}\n",
    ":::\n",
    "\n",
    "```\n",
    "\n",
    "geeft het volgende resultaat:\n",
    "\n",
    ":::{graphviz}\n",
    ":align: center\n",
    "digraph G {\n",
    "  rankdir=LR\n",
    "  node [shape=box, color=blue]\n",
    "  stap1 -> stap2 -> stap3\n",
    "}\n",
    ":::"
   ]
  },
  {
   "cell_type": "markdown",
   "id": "a8fc5598-4119-49fc-b6f4-5d5b8308e46e",
   "metadata": {},
   "source": [
    "Nog een voorbeeld:\n",
    "\n",
    "```\n",
    ":::{graphviz}\n",
    ":align: center\n",
    "digraph G {\n",
    "  node1 [label=\"Hello\"]\n",
    "  node2 [shape=box, label=\"World!\"]\n",
    "  node1 -> node2\n",
    "}\n",
    ":::\n",
    "```\n",
    "\n",
    "De default *rankdir* is `TB` (top-to-bottom); de default *shape* is `ellipse`; de default *color* is `black`."
   ]
  },
  {
   "cell_type": "markdown",
   "id": "a491f6b8-aedf-42af-a706-8b1f56c0b201",
   "metadata": {},
   "source": [
    ":::{graphviz}\n",
    ":align: center\n",
    "digraph G {\n",
    "  node1 [label=\"Hello\"]\n",
    "  node2 [shape=box, label=\"World!\"]\n",
    "  node1 -> node2\n",
    "}\n",
    ":::"
   ]
  },
  {
   "cell_type": "markdown",
   "id": "9dc61dad-7a76-4928-8aba-80e9963a1399",
   "metadata": {},
   "source": [
    "## Alternatieve diagram-extensies\n",
    "\n",
    "Er zijn meer van dergelijke diagram-uitbreidingen, in verschillende variaties, voor verschillende soorten toepassingen.\n",
    "Zie bijvoorbeeld het overzicht:\n",
    "\n",
    "* https://blog.ouseful.info/2021/11/10/more-scripted-diagram-extensions-for-jupyter-notebook-sphinx-and-jupyter-book/\n",
    "* https://blog.ouseful.info/2021/11/02/previewing-sphinx-and-jupyter-book-rendered-mermaid-and-wavedrom-diagrams-in-vs-code/\n",
    "* https://blog.ouseful.info/2021/09/30/a-simple-pattern-for-embedding-third-party-javascript-generated-graphics-in-jupyter-notebools/\n",
    "* https://opencomputinglab.github.io/SubjectMatterNotebooks/diagram/sphinx-diagrammers.html"
   ]
  }
 ],
 "metadata": {
  "kernelspec": {
   "display_name": "Python 3 (ipykernel)",
   "language": "python",
   "name": "python3"
  },
  "language_info": {
   "codemirror_mode": {
    "name": "ipython",
    "version": 3
   },
   "file_extension": ".py",
   "mimetype": "text/x-python",
   "name": "python",
   "nbconvert_exporter": "python",
   "pygments_lexer": "ipython3",
   "version": "3.9.12"
  }
 },
 "nbformat": 4,
 "nbformat_minor": 5
}
