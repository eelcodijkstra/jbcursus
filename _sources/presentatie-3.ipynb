{
 "cells": [
  {
   "cell_type": "markdown",
   "id": "9bea466a-edf9-4735-8362-9b2b0b86d06c",
   "metadata": {
    "slideshow": {
     "slide_type": "slide"
    },
    "tags": []
   },
   "source": [
    "# Presentatie 3"
   ]
  },
  {
   "cell_type": "markdown",
   "id": "c9c87fd3-1069-4927-ba66-754215c58fc2",
   "metadata": {
    "slideshow": {
     "slide_type": "slide"
    },
    "tags": []
   },
   "source": [
    "## Overzicht\n",
    "\n",
    "* gebruik van i&i Jupyter Hub\n",
    "* open leermateriaal voor databases\n",
    "* publiceren van Basthon notebooks via i&i Hub\n",
    "* publiceren van (bestaand) Jupyter Book via i&i Hub\n",
    "* aanpassen van DB-notes - via GitHub"
   ]
  },
  {
   "cell_type": "markdown",
   "id": "e8d2e519-9102-4a82-9e96-c17ba3d523a0",
   "metadata": {
    "slideshow": {
     "slide_type": "slide"
    },
    "tags": []
   },
   "source": [
    "## Gebruik van Jupyter Hub\n",
    "\n",
    "* openen van een notebook\n",
    "* openen van command-line terminal\n",
    "* gebruik van Git-extensie"
   ]
  },
  {
   "cell_type": "markdown",
   "id": "3aa2c562-a0d3-4ff8-bfb3-4bf8cad113e6",
   "metadata": {
    "slideshow": {
     "slide_type": "slide"
    },
    "tags": []
   },
   "source": [
    "## Open leermateriaal voor databases\n",
    "\n",
    "* open leermateriaal; lage drempel om bij te dragen\n",
    "* onder **CC-BY licentie**\n",
    "* level 1: publiceren van Basthon notebook(s)\n",
    "* level 2: bijdragen aan DB-notes (Jupyter Book)\n",
    "* level 3: bijdragen aan \"officiële\" materiaal\n",
    "\n",
    "**We zoeken leden voor het themateam/redactie**"
   ]
  },
  {
   "cell_type": "markdown",
   "id": "27634d20-5435-4559-a614-6fc5dfd7d1ad",
   "metadata": {
    "slideshow": {
     "slide_type": "slide"
    },
    "tags": []
   },
   "source": [
    "## Gebruik van GitHub\n",
    "\n",
    "* voor versiebeheer\n",
    "* voor issue-management\n",
    "* voor identificeren van auteur van bijdrage\n",
    "* voor publiceren van Jupyter Books"
   ]
  },
  {
   "cell_type": "markdown",
   "id": "1f518c54-a780-468a-9ff7-775da11d4c67",
   "metadata": {
    "slideshow": {
     "slide_type": "slide"
    },
    "tags": []
   },
   "source": [
    "## Publiceren van Basthon notebook\n",
    "\n",
    "* kopieer notebook naar i&i hub\n",
    "* kopieer notebook naar `share` map\n",
    "    * eventueel met voorbeeld-database\n",
    "* beschikbaar via URL, met database e.d.\n",
    "    * voorbeeld:\n",
    "\n",
    "https://jupyter.infvo.nl/books/notebook/?kernel=sql&from=share/top2000-selectie.ipynb&module=share/data/top2000.sql\n"
   ]
  },
  {
   "cell_type": "markdown",
   "id": "8841c300-4720-4259-9404-82e30eb667ee",
   "metadata": {
    "slideshow": {
     "slide_type": "slide"
    },
    "tags": []
   },
   "source": [
    "## Publiceren van (bestaand) Jupyter Book\n",
    "\n",
    "* kopieer bestanden naar i&i hub (via GitHub)\n",
    "* maak html-versie: `jb build --all jbdemo`\n",
    "* kopieer naar publicatie-map: `../publish jbdemo`\n",
    "* beschikbaar via URL, bijvoorbeeld:\n",
    "    \n",
    "https://jupyter.infvo.nl/books/hans/jbdemo/\n",
    "\n",
    "NB: laatste \"/\" essentieel, of \"/intro.html\""
   ]
  },
  {
   "cell_type": "markdown",
   "id": "fe1da2ea-7cc6-47cd-a36b-d379d23d9be4",
   "metadata": {
    "slideshow": {
     "slide_type": "slide"
    },
    "tags": []
   },
   "source": [
    "## Eigen variant van db-notes (GitHub)\n",
    "\n",
    "* maak een (GitHub) fork van https://github.com/infvo/db-notes\n",
    "* clone (Git-extensie) deze fork naar i&i hub\n",
    "* pas de tekst aan, met lokale commits\n",
    "* publiceer het resultaat op i&i hub\n",
    "* \"push\" het resultaat naar \"remote\"\n",
    "    * met je GitHub username, en API-key als wachtwoord\n",
    "* ..."
   ]
  },
  {
   "cell_type": "markdown",
   "id": "98f36c21-c763-41dc-b75f-31eef2faa464",
   "metadata": {
    "slideshow": {
     "slide_type": "slide"
    },
    "tags": []
   },
   "source": [
    "## Aanmaken van API-key\n",
    "\n",
    "* ga naar je GitHub pagina\n",
    "* vervolgens: Settings -> Developer settings -> \n",
    "* -> Personal Access Tokens -> Tokens (classic)\n",
    "* maak een key aan (alleen) voor repo's:\n",
    "    * selecteer het bovenste repo-hokje (voor alle repo-elementen)\n",
    "    * maak de key aan - en **kopieer de key naar een veilige plek**\n",
    "    * je kunt de key later niet via GitHub terugvinden!\n",
    "    * maar, je kunt altijd een nieuwe key aanmaken."
   ]
  },
  {
   "cell_type": "markdown",
   "id": "17a24cfc-c0b3-4bd8-966a-8487a26975e0",
   "metadata": {
    "slideshow": {
     "slide_type": "slide"
    },
    "tags": []
   },
   "source": [
    "## Je eigen wijzigingen terugmelden\n",
    "\n",
    "* als je tevreden bent over je eigen variant:\n",
    "* maak in GitHub een \"pull request\" voor de originele repo.\n",
    "* dit wordt door de redactie verwerkt in het origineel\n",
    "    * mogelijk krijg je eerst feedback voordat het overgenomen wordt.\n",
    "    \n",
    "**Je kunt bij deze stappen altijd assistentie krijgen.**"
   ]
  },
  {
   "cell_type": "markdown",
   "id": "fee7adc1-e800-4a73-a066-4c4423e6d54d",
   "metadata": {
    "slideshow": {
     "slide_type": "slide"
    },
    "tags": []
   },
   "source": [
    "## Tekenen van database schema's\n",
    "\n",
    "* met MySQL Workbench\n",
    "* met draw.io\n",
    "    * Ordenen -> Invoegen -> Geavanceerd -> SQL...\n",
    "    * voer de tabel-definitie(s) in SQL in\n",
    "    * dit geeft de \"blokken\"\n",
    "    * je moet zelf de pijlen nog tekenen."
   ]
  },
  {
   "cell_type": "markdown",
   "id": "a5a95088-0fb5-4a71-886c-c133fb44caf0",
   "metadata": {
    "slideshow": {
     "slide_type": "slide"
    },
    "tags": []
   },
   "source": [
    "## Hoe kun je bijdragen?\n",
    "\n",
    "* door feedback te leveren op het materiaal (GitHub issues)\n",
    "* door notebook(s) te publiceren op i&i hub\n",
    "* door een bijdrage aan DB-notes (Jupyter Book)\n",
    "* door helpen bij de redactie van e.e.a.\n",
    "    * verwerken van de feedback"
   ]
  }
 ],
 "metadata": {
  "kernelspec": {
   "display_name": "Python 3 (ipykernel)",
   "language": "python",
   "name": "python3"
  },
  "language_info": {
   "codemirror_mode": {
    "name": "ipython",
    "version": 3
   },
   "file_extension": ".py",
   "mimetype": "text/x-python",
   "name": "python",
   "nbconvert_exporter": "python",
   "pygments_lexer": "ipython3",
   "version": "3.10.11"
  }
 },
 "nbformat": 4,
 "nbformat_minor": 5
}
