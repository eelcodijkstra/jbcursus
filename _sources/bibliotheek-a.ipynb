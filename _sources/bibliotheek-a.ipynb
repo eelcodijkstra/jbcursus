{
 "cells": [
  {
   "cell_type": "markdown",
   "id": "0b6993b0-ccd4-4426-bab3-de7b0b9a8680",
   "metadata": {},
   "source": [
    "# Bibliotheek-voorbeelden (1)"
   ]
  },
  {
   "cell_type": "markdown",
   "id": "2e259c87-550c-4baa-879a-569219eb16c7",
   "metadata": {},
   "source": [
    "*Voer de onderstaande opdracht alleen uit in Jupyter; niet in Basthon.*"
   ]
  },
  {
   "cell_type": "code",
   "execution_count": 1,
   "id": "c91f7200-dbfc-4a7c-98ea-1612b422f11e",
   "metadata": {},
   "outputs": [],
   "source": [
    "%LOAD data/bibliotheek.db"
   ]
  },
  {
   "cell_type": "markdown",
   "id": "7a67a7fd-3d93-42c3-8993-a213b1973946",
   "metadata": {},
   "source": [
    "We gebruiken in de volgende voorbeelden een bibliotheek-database,\n",
    "met het volgende schema:"
   ]
  },
  {
   "cell_type": "markdown",
   "id": "ba0ff9a8-4cac-4914-8269-a5a54d7be02d",
   "metadata": {},
   "source": [
    "![image](images/bibliotheek-schema.png)"
   ]
  },
  {
   "cell_type": "markdown",
   "id": "56583861-2419-46e3-893c-90b2ef4e42b3",
   "metadata": {},
   "source": [
    "**Opdracht.**\n",
    "Welke schrijvers zijn geboren na 1960? Geef de voornaam, tussenvoegsel, achternaam, en geboortejaar."
   ]
  },
  {
   "cell_type": "code",
   "execution_count": null,
   "id": "420fd96e-135f-4855-8c05-8ae4f255db63",
   "metadata": {},
   "outputs": [],
   "source": [
    "SELECT voornaam, tussenvoegsel, achternaam, geb_jaar\n",
    "FROM auteurs\n",
    "WHERE geb_jaar > \"1960\"\n",
    "ORDER BY geb_jaar;"
   ]
  },
  {
   "cell_type": "markdown",
   "id": "5590a4ad-900f-45c9-a223-ebace791bc3c",
   "metadata": {},
   "source": [
    "**Opdracht.**\n",
    "Welke boeken vallen niet in de rubriek \"nederlands\"? (Geef alleen de eerste 10 boeken: titel en rubriek.)"
   ]
  },
  {
   "cell_type": "code",
   "execution_count": null,
   "id": "531868be-2602-4fe4-aa31-fa1d38dd39af",
   "metadata": {},
   "outputs": [],
   "source": [
    "SELECT titel, rubriek\n",
    "FROM boeken\n",
    "WHERE rubriek <> \"nederlands\"\n",
    "ORDER BY titel\n",
    "LIMIT 10;"
   ]
  },
  {
   "cell_type": "markdown",
   "id": "77ededef-701c-4189-966c-f9dc785a7bbb",
   "metadata": {},
   "source": [
    "**Opdracht.**\n",
    "In welke rubrieken worden de boeken ingedeeld? Geef deze in alfabetische volgorde."
   ]
  },
  {
   "cell_type": "code",
   "execution_count": null,
   "id": "db0d4f29-4b72-44e7-83db-08e1d2046ae1",
   "metadata": {},
   "outputs": [],
   "source": [
    "SELECT DISTINCT rubriek\n",
    "FROM boeken\n",
    "ORDER BY rubriek;"
   ]
  },
  {
   "cell_type": "markdown",
   "id": "ecfe37a0-a4b4-40e0-a8c1-f5cb6577afa2",
   "metadata": {},
   "source": [
    "## Combineren van tabellen: JOIN\n",
    "\n",
    "Met de `JOIN` - operator kun je tabellen samenvoegen tot één tabel. Voor deze gecombineerde tabel heb je dan dezelfde mogelijkheden als je gezien hebt voor queries met één tabel.\n",
    "\n",
    "De algemene vorm is:\n",
    "\n",
    "```SQL\n",
    "SELECT <kolomnamen>\n",
    "FROM tabel1\n",
    "     JOIN tabel2 ON tabel1.kolomx = tabel2.kolomy\n",
    "WHERE ...     \n",
    "```\n",
    "\n",
    "De `ON` - term beschrijft welke kolommen moeten overeenkomen. Bijvoorbeeld: de kolom `boeken.autnr` verwijst naar de bijbehorende auteur `auteurs.auteurnr`. (Dit is een *foreign key* in de `boeken` tabel die verwijst naar de *primary key* van de tabel `auteurs`.)\n",
    "\n",
    "De *namen van de kolommen* in de gecombineerde tabel zijn ontleend aan de namen in de oorspronkelijke tabel. Om misverstanden te voorkomen kun je deze noteren als `tabelnaam.kolomnaam`, bijvoorbeeld `boeken.titel`.\n",
    "\n",
    "**Opmerkingen** \n",
    "\n",
    "* Je kunt op deze manier ook meer dan 2 tabellen combineren; je krijgt er dan een `ON` term.\n",
    "* Er zijn meerdere vormen van de JOIN-operator; daar komen we later op terug. "
   ]
  },
  {
   "cell_type": "markdown",
   "id": "771a613e-751f-4ba3-90a2-5972b9bc77b5",
   "metadata": {},
   "source": [
    "**Opdracht.**\n",
    "Welke boeken van Gerard Reve zijn er in de bibliotheek? (Geef titel, jaar van publicatie, en naam van de auteur.)"
   ]
  },
  {
   "cell_type": "code",
   "execution_count": null,
   "id": "05716a0f-e2fa-4d91-8bb2-820b101df65c",
   "metadata": {},
   "outputs": [],
   "source": [
    "SELECT titel\n",
    "     , pub_jaar as JAAR\n",
    "     , voornaam, achternaam\n",
    "FROM boeken\n",
    "     JOIN auteurs ON boeken.autnr = auteurs.auteurnr\n",
    "WHERE auteurs.voornaam = \"Gerard\" and auteurs.achternaam = \"Reve\";"
   ]
  },
  {
   "cell_type": "markdown",
   "id": "cf586ba2-f69a-46ea-b3ba-1bcebbf15a02",
   "metadata": {},
   "source": [
    "**Opdracht.**\n",
    "Welke leerlingen hebben een boete van meer dan 3,50 Euro gehad? (Geef voornaam, tussenvoegsel, achternaam, en boete; geef alleen de eerste 10, op alfabetische volgorde van achternaam.)"
   ]
  },
  {
   "cell_type": "code",
   "execution_count": null,
   "id": "e3212a0c-b1a0-4445-9785-ab97e4a3eefb",
   "metadata": {},
   "outputs": [],
   "source": [
    "SELECT voornaam, tussenvoegsel as tv, achternaam, boete\n",
    "FROM leerlingen\n",
    "     JOIN uitleningen ON leerlingen.llnr = uitleningen.llnr\n",
    "WHERE boete > 3.50\n",
    "ORDER BY achternaam\n",
    "LIMIT 10;"
   ]
  },
  {
   "cell_type": "markdown",
   "id": "007a8431-a6f3-4535-9fcb-85aa31121c06",
   "metadata": {},
   "source": [
    "**Opdracht.**\n",
    "Maak een top-5 van de leerlingen die *in totaal* het grootste bedrag aan boetes betaald hebben."
   ]
  },
  {
   "cell_type": "code",
   "execution_count": null,
   "id": "1b7571df-3ad9-4c27-a830-76617676ef13",
   "metadata": {},
   "outputs": [],
   "source": [
    "SELECT voornaam, tussenvoegsel, achternaam, sum(boete) as Totaal_boete\n",
    "FROM leerlingen\n",
    "     JOIN uitleningen ON leerlingen.llnr = uitleningen.llnr\n",
    "GROUP BY voornaam, tussenvoegsel, achternaam\n",
    "ORDER BY totaal_boete DESC\n",
    "LIMIT 5;"
   ]
  },
  {
   "cell_type": "markdown",
   "id": "356ba522-ad72-499c-931b-a34b2106b6ff",
   "metadata": {},
   "source": []
  }
 ],
 "metadata": {
  "kernelspec": {
   "display_name": "xsqlite",
   "language": "sqlite",
   "name": "xsqlite"
  },
  "language_info": {
   "codemirror_mode": "sql",
   "file_extension": "",
   "mimetype": "",
   "name": "sql",
   "version": "3.33.0"
  }
 },
 "nbformat": 4,
 "nbformat_minor": 5
}
