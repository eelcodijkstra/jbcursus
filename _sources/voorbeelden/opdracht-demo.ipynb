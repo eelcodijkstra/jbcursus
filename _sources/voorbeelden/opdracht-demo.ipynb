{
 "cells": [
  {
   "cell_type": "markdown",
   "id": "c079d7fa-348c-46a5-9079-8ab3186a6c8d",
   "metadata": {},
   "source": [
    "# Opdracht-demo"
   ]
  },
  {
   "cell_type": "markdown",
   "id": "86f88efe-0449-44d9-b7f2-5b531b47c83d",
   "metadata": {},
   "source": [
    "Met behulp van het *exercise* element kun je opdrachten beschrijven. Deze worden in het boek opeenvolgend genummerd(?). Je kunt van een opdracht ook een uitwerking geven.\n",
    "\n",
    "> Voor de documentatie van de *exercise*-extensie, zie: https://ebp-sphinx-exercise.readthedocs.io/en/latest/. Daar wordt ook beschreven hoe je de kleur en andere stijl-elementen van de exercise-blokken (\"admonitions\") kunt aanpassen."
   ]
  },
  {
   "cell_type": "markdown",
   "id": "8aff7515-dc3d-4c0b-92c2-bb4bedfd0698",
   "metadata": {},
   "source": [
    "```{exercise} Voorbeeld\n",
    ":label: voorbeeld-1\n",
    "\n",
    "Dit is een opdracht.\n",
    "\n",
    "Je kunt deze in meerdere paragrafen beschrijven, met formules ($E = mc^2$) en met figuren.\n",
    "\n",
    "**Opdracht:** maak een Python-programma voor het afdrukken van de getallen 0..9.\n",
    "```"
   ]
  },
  {
   "cell_type": "markdown",
   "id": "9bd5d4fa-b162-4850-99a6-437ca7c87e56",
   "metadata": {},
   "source": [
    "Elders in dit notebook vind je de uitwerking(en)."
   ]
  }
 ],
 "metadata": {
  "kernelspec": {
   "display_name": "Python 3 (ipykernel)",
   "language": "python",
   "name": "python3"
  },
  "language_info": {
   "codemirror_mode": {
    "name": "ipython",
    "version": 3
   },
   "file_extension": ".py",
   "mimetype": "text/x-python",
   "name": "python",
   "nbconvert_exporter": "python",
   "pygments_lexer": "ipython3",
   "version": "3.10.4"
  }
 },
 "nbformat": 4,
 "nbformat_minor": 5
}
