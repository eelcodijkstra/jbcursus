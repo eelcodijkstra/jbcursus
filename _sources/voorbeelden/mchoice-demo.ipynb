{
 "cells": [
  {
   "cell_type": "markdown",
   "id": "d3f184ff-6a0a-4f17-a974-86b56d7f6b7d",
   "metadata": {},
   "source": [
    "(toetsvragen_demo)=\n",
    "# Toetsvragen-demo"
   ]
  },
  {
   "cell_type": "markdown",
   "id": "9c9d003d-39ad-492d-8698-3f3a699941d7",
   "metadata": {},
   "source": [
    "Voor JupyterBook ontwikkelen we een extensie voor toetsvragen, in het bijzonder voor *formatief* toetsen in het lesmateriaal.\n",
    "\n",
    "Je kunt de volgende toetsformaten gebruiken:\n",
    "\n",
    "* multiple choice\n",
    "* drag & drop - plaats de juiste componenten bij elkaar\n",
    "* fillintheblank\n",
    "* Parsons' puzzels\n",
    "\n",
    "Hieronder geven we een aantal voorbeelden. In de broncode van het Jupyter Notebook kun je ook zien hoe het formaat voor deze vragen eruit ziet."
   ]
  },
  {
   "cell_type": "markdown",
   "id": "86cc5aec-1fba-4c40-9e2f-19a490ceb6be",
   "metadata": {},
   "source": [
    "## Multiple choice"
   ]
  },
  {
   "cell_type": "markdown",
   "id": "bd4d7fff-1fad-42b0-b3a1-87e9149d376a",
   "metadata": {},
   "source": [
    "```{mchoice} Vraag 1\n",
    ":correct: a\n",
    "\n",
    "Welke van de onderstaande uitspraken is juist?\n",
    "\n",
    "* het web is een toepassing van het internet\n",
    "    * Inderdaad\n",
    "* het internet is een toepassing van het web\n",
    "    * Lees de inleiding van \"Netwerken\" nog eens door\n",
    "* geen van beide\n",
    "    * Zie de inleiding van \"Netwerken\"\n"
   ]
  },
  {
   "cell_type": "markdown",
   "id": "30f6ee7c-6416-44a8-b443-03e7f3507aa7",
   "metadata": {},
   "source": [
    "```{mchoice} titel van de vraag\n",
    ":correct: c\n",
    "\n",
    "Een mogelijk uitgebreide vraag, met figuren, formules, e.d.\n",
    "\n",
    "De beschrijving van de vraag wordt afgesloten met een lijst van mogelijke antwoorden; bij elk antwoord is feedback mogelijk. \n",
    "\n",
    "* antwoord a\n",
    "    * feedbach bij antwoord a\n",
    "* antwoord b\n",
    "    * feedback bij antwoord b\n",
    "* antwoord c\n",
    "    * feedback bij antwoord c\n",
    "* antwoord d\n",
    "    * feedback bij antwoord d"
   ]
  },
  {
   "cell_type": "markdown",
   "id": "b1e4fa8d-fedf-4406-9795-cc07efca8118",
   "metadata": {},
   "source": [
    "## Drag & drop\n",
    "\n",
    "Bij een drag&drop-vraag moeten elementen via drag and drop bij de bijbehorende elementen geplaatst worden, bijvoorbeeld een term bij een definie.\n",
    "\n",
    "(Meestal gaan we ervan uit dat de linker elementen een kortere tekst hebben dan de rechter elementen.)"
   ]
  },
  {
   "cell_type": "markdown",
   "id": "03a6844a-5b40-4f8d-927e-19d4cd70c3ca",
   "metadata": {},
   "source": [
    "```{dragndrop} Landen en steden\n",
    "\n",
    "Plaats de steden bij de landen.\n",
    "\n",
    "**Let op!** Niet alle genoemde landen hebben een stad in de lijst; en niet alle steden hebben een land in de lijst.\n",
    "\n",
    "* Nederland\n",
    "    * Amsterdam\n",
    "    * Dokkum\n",
    "* België\n",
    "    * Antwerpen\n",
    "* Verenigd Koninkrijk\n",
    "* no-target\n",
    "    * Dublin\n",
    "```"
   ]
  },
  {
   "cell_type": "markdown",
   "id": "bf34135a-051d-49d2-9477-767c16c13b53",
   "metadata": {},
   "source": [
    "## Fillintheblank\n",
    "\n",
    "Bij een \"fillintheblank\" moet een antwoord gegeven worden dat in een opengelaten vakje past. Het antwoord kan een getal zijn of een string. Bij een getal kan gecontroleerd worden of dit in een bepaald bereik ligt. Een string kan gecontroleerd worden via een reguliere expressie."
   ]
  },
  {
   "cell_type": "markdown",
   "id": "5e6953bf-5b19-47a7-9922-953f7bae4f74",
   "metadata": {},
   "source": [
    "```{fillintheblank} vraag 3\n",
    "\n",
    "Het resultaat van `1 + 2 * 3` in Python is {blank-range}`7..7`.\n",
    "\n",
    "Geef een voorbeeld van een Pascal identifier, met een selectie van letters, cijfers, en andere tekens {blank-regexp}`^[a-zA-Z][_0-9a-zA-Z]*$`\n",
    "\n",
    "* 7\n",
    "* begint met een letter, dan letters, cijfers, of `_`\n",
    "```\n"
   ]
  },
  {
   "cell_type": "markdown",
   "id": "40e6fb9f-e91a-4f0b-8208-33bf0a718425",
   "metadata": {},
   "source": [
    "## Parsons' puzzels\n",
    "\n",
    "In een Parsons' puzzel moet je de regels van een programma in de goede volgorde plaatsen, met de juiste indentatie.\n",
    "\n"
   ]
  },
  {
   "cell_type": "markdown",
   "id": "9c5e42bc-224e-42a6-8fe6-138a653922d1",
   "metadata": {},
   "source": [
    "````{parsons} Vraag 5\n",
    "\n",
    "Dit is de inleidende tekst.\n",
    "\n",
    "Deze kan uit meerdere paragrafen bestaan. Dit voorbeeld betreft een (Python) programma om de getallen 0..9 af te drukken. \n",
    "\n",
    "Plaats de regels van het onderstaande programma in de juiste volgorde, met de juiste indentatie.\n",
    "\n",
    "```python\n",
    "x = 0\n",
    "while x < 10:\n",
    "    print(x)\n",
    "    x = x + 1\n",
    "```\n",
    "\n",
    "````"
   ]
  }
 ],
 "metadata": {
  "kernelspec": {
   "display_name": "Python 3 (ipykernel)",
   "language": "python",
   "name": "python3"
  },
  "language_info": {
   "codemirror_mode": {
    "name": "ipython",
    "version": 3
   },
   "file_extension": ".py",
   "mimetype": "text/x-python",
   "name": "python",
   "nbconvert_exporter": "python",
   "pygments_lexer": "ipython3",
   "version": "3.10.4"
  }
 },
 "nbformat": 4,
 "nbformat_minor": 5
}
