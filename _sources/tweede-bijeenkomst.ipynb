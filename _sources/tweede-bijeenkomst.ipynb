{
 "cells": [
  {
   "cell_type": "markdown",
   "id": "6b47d5e3-75ad-414e-9681-81925ba50842",
   "metadata": {},
   "source": [
    "# Tweede bijeenkomst\n",
    "\n",
    "* gebruik van Jupyter Lab, op Jupyter Hub.\n"
   ]
  },
  {
   "cell_type": "markdown",
   "id": "be68e9da-6b66-4b45-a621-afcd89c57193",
   "metadata": {},
   "source": [
    "## Jupyter Lab op Jupyter Hub\n",
    "\n",
    "Zoals je eerder gezien hebt is Jupyter Lab een gebruikersinterface om te werken met Jupyter Notebooks en andere bestanden.\n",
    "Je kunt dit bijvoorbeeld uitproberen met Jupyter Lite, zie https://jupyter.org/try-jupyter/lab/?path=notebooks%2FIntro.ipynb.\n",
    "Je kunt ook Jupyter Lab op je eigen computer installeren, om te werken in de browser;\n",
    "of, misschien eenvoudiger, de desktop-versie van Jupyter Lab: https://github.com/jupyterlab/jupyterlab-desktop.\n",
    "\n",
    "In deze bijeenkomst ga je aan de slag met een *online versie van Jupyter Lab* via de i&i Jupyter Hub.\n",
    "Jupyter Hub is de software waarmee je meerdere Jupyter Lab gebruikers op een server of op een cluster van server kunt bedienen. Voor de i&i Hub maken we gebruik van \"The Littlest Jupyter Hub\" (TLJH), een installatie voor een enkele server. Voor grotere groepen gebruikers worden meestal clusters van servers gebruikt, bestuurd door Kubernetes.\n",
    "\n",
    "De i&i hub is bedoeld voor docenten die werken aan het open leermateriaal voor informatica, bijvoorbeeld voor de keuzethema's.\n",
    "\n",
    "### Inloggen\n",
    "\n",
    "Je bereikt de i&i hub via: https://jupyter.infvo.nl. \n",
    "Je kunt inloggen met je gebruikersnaam; het wachtwoord kun je de eerste keer instellen.\n",
    "(Als je je wachtwoord kwijt bent, moet je aan een beheerder, Ramon of Eelco, vragen om een reset. Dit kun je op dit moment nog niet zelf doen.)\n",
    "\n",
    "Als je ingelogd bent, kom je in het Jupyter Lab interface, in een eigen omgeving (folder).\n",
    "Je kunt daar werken aan je eigen bestanden.\n",
    "Je vindt een overzicht van de bestanden via de linker zijbalk, als je het \"folder\" blokje linksboven geselecteerd hebt.\n",
    "\n",
    "De map `share` kun je gebruiken voor het publiceren en delen van je notebooks met anderen.\n",
    "De notebooks in deze map zijn ook extern toegankelijk als Basthon notebooks.\n",
    "\n",
    "Voorbeeld voor het gebruik van een notebook in de `share`-map:\n",
    "\n",
    "* https://jupyter.infvo.nl/books/notebook/?kernel=sql&from=share/top2000-selectie.ipynb&module=share/data/top2000.sql\n",
    "\n",
    "Ook je eigen notebooks zijn via een dergelijke URL te gebruiken.\n"
   ]
  },
  {
   "cell_type": "markdown",
   "id": "c2938b3c-c58d-44b3-89e4-8ee4d360618c",
   "metadata": {},
   "source": [
    "## Aanmaken en publiceren van een notebook\n",
    "\n",
    "De eerste stap is het aanmaken van een eigen notebook.\n",
    "Je kunt daarin eventueel ook bestanden gebruiken, bijvoorbeeld een eigen database; of eigen figuren.\n",
    "Bestanden kun je uploaden (en downloaden) via het Jupyter Lab interface."
   ]
  },
  {
   "cell_type": "markdown",
   "id": "5955cc30-0cb5-40ff-a904-7fb6cd158d5b",
   "metadata": {},
   "source": [
    "### Publiceren via `share`\n",
    "\n",
    "Als je je notebook aangemaakt hebt, kun je dit publiceren door het te kopiëren naar de map `share`:\n",
    "\n",
    "* dit kan via \"drag&drop\" van het notebook naar de map `share`.\n",
    "* of, als je handig met de command line bent: door een terminal-venster te openen in Jupyter Lab.\n",
    "\n",
    "Je kunt je eigen notebooks in de map `share` bewerken met Jupyter Lab.\n",
    "Dat geldt niet voor de notebooks van andere gebruikers.\n",
    "\n",
    "### Figuren\n",
    "\n",
    "Als je een figuur wilt toevoegen aan een notebook in deze `share`-map, dan moet je deze als *attachment* toevoegen. Het eenvoudigst gaat dat via drag&drop naar een tekst-cel (Markdown-cel).\n",
    "Vaak is het handig om voor een figuur een aparte cel te gebruiken."
   ]
  },
  {
   "cell_type": "markdown",
   "id": "23267da2-cac5-4fb5-a12d-f57ab9e6f3a6",
   "metadata": {},
   "source": [
    "### Presentatie-notebook\n",
    "\n",
    "Als je een notebook wilt gebruiken als presentatie (via \"RISE\"), dan moet je aangeven met welke cellen een nieuwe slide begint:\n",
    "\n",
    "* open het notebook in Jupyter Lab\n",
    "* open de *Property Inspector* (via het tandwielen-icoon helemaal rechts boven)\n",
    "* selecteer een cel waarmee een slide begint\n",
    "* stel het \"Slide type\" in als `Slide`.\n",
    "* doe dit voor alle slides\n",
    "\n",
    "Je kunt ook de andere Slide Types gebruiken:\n",
    "\n",
    "* `Sub-slide`: begint een nieuwe slide, maar op een lager navigatie-niveau. (Je gebruikt dan ook de pijltjes omhoog en omlaag voor het navigeren.)\n",
    "* `Fragment`: deel van een slide dat later \"ingevlogen\" wordt: je kunt de inhoud van een slide daarmee opbouwen.\n",
    "* `Skip`: sla deze cel over\n",
    "* `Notes`: aantekeningen voor de presentator, worden overgeslagen in de presentatie.\n",
    "\n",
    "Je start de presentatie door op het \"RISE\" icoon bovenaan het notebook te klikken: in Jupyter Lab is dat een schermpje, in basthon een histogram.\n"
   ]
  },
  {
   "cell_type": "markdown",
   "id": "ce1b5873-2682-449f-ab6b-80187b3940bc",
   "metadata": {},
   "source": [
    "### Redactie van notebooks\n",
    "\n",
    "In principe ben je vrij om je notebooks via de i&i hub te publiceren, mits je de gangbare normen van fatsoen en goede smaak hanteert.\n",
    "Voorlopig wordt op deze notebooks geen redactie uitgevoerd; het beleid hiervoor zal in de toekomst verder uitgewerkt worden."
   ]
  },
  {
   "cell_type": "markdown",
   "id": "aedb6f98-1741-48f3-8800-4d0c9067984f",
   "metadata": {},
   "source": [
    "### Meerdere notebooks\n",
    "\n",
    "Als je meer dan een paar notebooks aanmaakt, kan het handig zijn om hiervoor een map aan te maken in de `share` map, bij voorkeur met je eigen naam of de naam (afkorting) van je school.\n",
    "Dit kan via het Jupyter Lab interface (icoon: map met een plusje erin) of via de command line."
   ]
  },
  {
   "cell_type": "markdown",
   "id": "3ec6c65f-2df5-4a08-95e6-861a3957295e",
   "metadata": {},
   "source": [
    "### Backup\n",
    "\n",
    "Het is de bedoeling om automatisch (dagelijkse) backups bij de houden van de inhoud van `share`."
   ]
  },
  {
   "cell_type": "markdown",
   "id": "b22a05b0-b7b7-4bcf-84a8-4fff7f7997a6",
   "metadata": {},
   "source": [
    "## Jupyter Book"
   ]
  },
  {
   "cell_type": "markdown",
   "id": "c88155c7-8434-49d9-9760-5ff02d5459a7",
   "metadata": {},
   "source": [
    "Een stap verder dan het gebruik van losse notebooks is het gebruik van Jupyter Book.\n",
    "\n",
    "Voor notebooks op het gebied van databases hebben we een Jupyter Book met de naam \"db-notes\" waaraan je losse notebooks of hoofdstukken met meerdere notebooks kunt toevoegen.\n"
   ]
  },
  {
   "cell_type": "markdown",
   "id": "795ee153-9970-4d94-b8d4-c342dbb42889",
   "metadata": {},
   "source": [
    "### Redactie en feedback\n",
    "\n",
    "Op de inhoud van \"db-notes\" wordt enige redactie gepleegd, vooral bedoeld om fouten te verbeteren.\n",
    "\n",
    "Via GitHub kunnen gebruikers feedback leveren op de inhoud van \"db-notes\". De redactie probeert deze feedback te verwerken, in overleg met de betreffende auteur(s) van de notebooks.\n",
    "\n",
    "(Mogelijk komt er een systeem waarbij gebruikers kunnen aangeven welke notebooks het meest gebruikt worden en het meest nuttig zijn.)\n",
    "\n",
    "Notebooks van hoge kwaliteit kunnen in het \"officiële\" lesmateriaal opgenomen worden, waar een strengere redactie gevoerd wordt."
   ]
  },
  {
   "cell_type": "markdown",
   "id": "7ba24591-7afa-4aff-9460-c40afa219e14",
   "metadata": {},
   "source": [
    "### Gebruik van GitHub"
   ]
  },
  {
   "cell_type": "markdown",
   "id": "591f592e-5753-4e99-9a27-dff8c50a6d1c",
   "metadata": {},
   "source": [
    "Voor het Jupyter Book \"db-notes\" is versiebeheer belangrijk, o.a. omdat er meerdere auteurs aan kunnen bijdragen.\n",
    "\n",
    "Voor het maken van een bijdrage gebruiken we de \"GitHub flow\" voor de bijdrage aan projecten (van anderen), zie: https://docs.github.com/en/get-started/quickstart/contributing-to-projects\n",
    "\n",
    "* maak (in GitHub) een eigen fork van het db-notes project."
   ]
  }
 ],
 "metadata": {
  "kernelspec": {
   "display_name": "Python 3 (ipykernel)",
   "language": "python",
   "name": "python3"
  },
  "language_info": {
   "codemirror_mode": {
    "name": "ipython",
    "version": 3
   },
   "file_extension": ".py",
   "mimetype": "text/x-python",
   "name": "python",
   "nbconvert_exporter": "python",
   "pygments_lexer": "ipython3",
   "version": "3.10.11"
  }
 },
 "nbformat": 4,
 "nbformat_minor": 5
}
